{
 "cells": [
  {
   "cell_type": "markdown",
   "metadata": {},
   "source": [
    "# 1. 컨텐츠 기반 추천\n",
    "20개의 문서와 10개의 속성이 있다. 그리고 각 사용자마다 5개의 문서에 대한 평가가 있다. 이번 과제에서는 각 속성의 Count를 무시하고 Boolean값 (0/1)으로만 취급하도록 하겠다. 그리고 사용자의 평가는 긍정적이면 1 부정적이면 -1로 기록되어있다."
   ]
  },
  {
   "cell_type": "markdown",
   "metadata": {},
   "source": [
    "## 사용자 프로필 구축\n",
    "먼저 사용자의 프로파일을 구축하시오. 각 속성마다 긍정적인 평가와 부정적인 평가를 Count한 뒤, 그것을 기반으로 각 속성에 점수를 부여하여 프로필을 만드시오. \n",
    "\n",
    "그리고 각 문서에 대한 예측값을 만들고 (벡터 내적곱을 이용해), 아래의 질문들에 답하시오:\n",
    "1. 사용자1이 가장 좋아할 것으로 예측되는 문서는 무엇인가?\n",
    "2. 그 문서에 대한 점수는 몇점인가?\n",
    "3. 사용자2가 부정적인 평가를 내릴 것으로 예측되는 문서는 몇개인가?\n",
    "\n",
    "이 모델은 사용자가 평가를 바꾸지 않을것이라는 것을 전제로 한다."
   ]
  },
  {
   "cell_type": "markdown",
   "metadata": {},
   "source": [
    "### 데이터 탐색\n",
    "\n",
    "먼저 주어진 데이터를 살펴보겠습니다."
   ]
  },
  {
   "cell_type": "code",
   "execution_count": 2,
   "metadata": {},
   "outputs": [
    {
     "data": {
      "text/html": [
       "<div>\n",
       "<style scoped>\n",
       "    .dataframe tbody tr th:only-of-type {\n",
       "        vertical-align: middle;\n",
       "    }\n",
       "\n",
       "    .dataframe tbody tr th {\n",
       "        vertical-align: top;\n",
       "    }\n",
       "\n",
       "    .dataframe thead th {\n",
       "        text-align: right;\n",
       "    }\n",
       "</style>\n",
       "<table border=\"1\" class=\"dataframe\">\n",
       "  <thead>\n",
       "    <tr style=\"text-align: right;\">\n",
       "      <th></th>\n",
       "      <th>User 1</th>\n",
       "      <th>User 2</th>\n",
       "    </tr>\n",
       "  </thead>\n",
       "  <tbody>\n",
       "    <tr>\n",
       "      <th>doc1</th>\n",
       "      <td>1.0</td>\n",
       "      <td>-1.0</td>\n",
       "    </tr>\n",
       "    <tr>\n",
       "      <th>doc2</th>\n",
       "      <td>-1.0</td>\n",
       "      <td>1.0</td>\n",
       "    </tr>\n",
       "    <tr>\n",
       "      <th>doc3</th>\n",
       "      <td>NaN</td>\n",
       "      <td>NaN</td>\n",
       "    </tr>\n",
       "    <tr>\n",
       "      <th>doc4</th>\n",
       "      <td>NaN</td>\n",
       "      <td>1.0</td>\n",
       "    </tr>\n",
       "    <tr>\n",
       "      <th>doc5</th>\n",
       "      <td>NaN</td>\n",
       "      <td>NaN</td>\n",
       "    </tr>\n",
       "  </tbody>\n",
       "</table>\n",
       "</div>"
      ],
      "text/plain": [
       "      User 1  User 2\n",
       "doc1     1.0    -1.0\n",
       "doc2    -1.0     1.0\n",
       "doc3     NaN     NaN\n",
       "doc4     NaN     1.0\n",
       "doc5     NaN     NaN"
      ]
     },
     "execution_count": 2,
     "metadata": {},
     "output_type": "execute_result"
    }
   ],
   "source": [
    "import pandas as pd\n",
    "import numpy as np\n",
    "\n",
    "users_df = pd.read_csv('./users.csv', index_col=0)\n",
    "users_df.head()"
   ]
  },
  {
   "cell_type": "code",
   "execution_count": 90,
   "metadata": {},
   "outputs": [
    {
     "data": {
      "text/html": [
       "<div>\n",
       "<style scoped>\n",
       "    .dataframe tbody tr th:only-of-type {\n",
       "        vertical-align: middle;\n",
       "    }\n",
       "\n",
       "    .dataframe tbody tr th {\n",
       "        vertical-align: top;\n",
       "    }\n",
       "\n",
       "    .dataframe thead th {\n",
       "        text-align: right;\n",
       "    }\n",
       "</style>\n",
       "<table border=\"1\" class=\"dataframe\">\n",
       "  <thead>\n",
       "    <tr style=\"text-align: right;\">\n",
       "      <th></th>\n",
       "      <th>baseball</th>\n",
       "      <th>economics</th>\n",
       "      <th>politics</th>\n",
       "      <th>Europe</th>\n",
       "      <th>Asia</th>\n",
       "      <th>soccer</th>\n",
       "      <th>war</th>\n",
       "      <th>security</th>\n",
       "      <th>shopping</th>\n",
       "      <th>family</th>\n",
       "    </tr>\n",
       "  </thead>\n",
       "  <tbody>\n",
       "    <tr>\n",
       "      <th>doc1</th>\n",
       "      <td>1</td>\n",
       "      <td>0</td>\n",
       "      <td>1</td>\n",
       "      <td>0</td>\n",
       "      <td>1</td>\n",
       "      <td>1</td>\n",
       "      <td>0</td>\n",
       "      <td>0</td>\n",
       "      <td>0</td>\n",
       "      <td>1</td>\n",
       "    </tr>\n",
       "    <tr>\n",
       "      <th>doc2</th>\n",
       "      <td>0</td>\n",
       "      <td>1</td>\n",
       "      <td>1</td>\n",
       "      <td>1</td>\n",
       "      <td>0</td>\n",
       "      <td>0</td>\n",
       "      <td>0</td>\n",
       "      <td>1</td>\n",
       "      <td>0</td>\n",
       "      <td>0</td>\n",
       "    </tr>\n",
       "    <tr>\n",
       "      <th>doc3</th>\n",
       "      <td>0</td>\n",
       "      <td>0</td>\n",
       "      <td>0</td>\n",
       "      <td>1</td>\n",
       "      <td>1</td>\n",
       "      <td>1</td>\n",
       "      <td>0</td>\n",
       "      <td>0</td>\n",
       "      <td>0</td>\n",
       "      <td>0</td>\n",
       "    </tr>\n",
       "    <tr>\n",
       "      <th>doc4</th>\n",
       "      <td>0</td>\n",
       "      <td>0</td>\n",
       "      <td>1</td>\n",
       "      <td>1</td>\n",
       "      <td>0</td>\n",
       "      <td>0</td>\n",
       "      <td>1</td>\n",
       "      <td>1</td>\n",
       "      <td>0</td>\n",
       "      <td>0</td>\n",
       "    </tr>\n",
       "    <tr>\n",
       "      <th>doc5</th>\n",
       "      <td>0</td>\n",
       "      <td>1</td>\n",
       "      <td>0</td>\n",
       "      <td>0</td>\n",
       "      <td>0</td>\n",
       "      <td>0</td>\n",
       "      <td>0</td>\n",
       "      <td>0</td>\n",
       "      <td>1</td>\n",
       "      <td>1</td>\n",
       "    </tr>\n",
       "    <tr>\n",
       "      <th>doc6</th>\n",
       "      <td>1</td>\n",
       "      <td>0</td>\n",
       "      <td>0</td>\n",
       "      <td>1</td>\n",
       "      <td>0</td>\n",
       "      <td>0</td>\n",
       "      <td>0</td>\n",
       "      <td>0</td>\n",
       "      <td>0</td>\n",
       "      <td>0</td>\n",
       "    </tr>\n",
       "    <tr>\n",
       "      <th>doc7</th>\n",
       "      <td>0</td>\n",
       "      <td>0</td>\n",
       "      <td>0</td>\n",
       "      <td>0</td>\n",
       "      <td>0</td>\n",
       "      <td>0</td>\n",
       "      <td>0</td>\n",
       "      <td>1</td>\n",
       "      <td>0</td>\n",
       "      <td>1</td>\n",
       "    </tr>\n",
       "    <tr>\n",
       "      <th>doc8</th>\n",
       "      <td>0</td>\n",
       "      <td>0</td>\n",
       "      <td>1</td>\n",
       "      <td>1</td>\n",
       "      <td>0</td>\n",
       "      <td>0</td>\n",
       "      <td>1</td>\n",
       "      <td>0</td>\n",
       "      <td>0</td>\n",
       "      <td>1</td>\n",
       "    </tr>\n",
       "    <tr>\n",
       "      <th>doc9</th>\n",
       "      <td>0</td>\n",
       "      <td>0</td>\n",
       "      <td>0</td>\n",
       "      <td>0</td>\n",
       "      <td>0</td>\n",
       "      <td>1</td>\n",
       "      <td>0</td>\n",
       "      <td>0</td>\n",
       "      <td>1</td>\n",
       "      <td>0</td>\n",
       "    </tr>\n",
       "    <tr>\n",
       "      <th>doc10</th>\n",
       "      <td>0</td>\n",
       "      <td>1</td>\n",
       "      <td>0</td>\n",
       "      <td>0</td>\n",
       "      <td>1</td>\n",
       "      <td>0</td>\n",
       "      <td>1</td>\n",
       "      <td>0</td>\n",
       "      <td>0</td>\n",
       "      <td>0</td>\n",
       "    </tr>\n",
       "    <tr>\n",
       "      <th>doc11</th>\n",
       "      <td>0</td>\n",
       "      <td>0</td>\n",
       "      <td>1</td>\n",
       "      <td>0</td>\n",
       "      <td>1</td>\n",
       "      <td>0</td>\n",
       "      <td>0</td>\n",
       "      <td>0</td>\n",
       "      <td>1</td>\n",
       "      <td>0</td>\n",
       "    </tr>\n",
       "    <tr>\n",
       "      <th>doc12</th>\n",
       "      <td>1</td>\n",
       "      <td>0</td>\n",
       "      <td>0</td>\n",
       "      <td>0</td>\n",
       "      <td>0</td>\n",
       "      <td>1</td>\n",
       "      <td>1</td>\n",
       "      <td>0</td>\n",
       "      <td>0</td>\n",
       "      <td>0</td>\n",
       "    </tr>\n",
       "    <tr>\n",
       "      <th>doc13</th>\n",
       "      <td>0</td>\n",
       "      <td>0</td>\n",
       "      <td>1</td>\n",
       "      <td>1</td>\n",
       "      <td>1</td>\n",
       "      <td>0</td>\n",
       "      <td>0</td>\n",
       "      <td>1</td>\n",
       "      <td>0</td>\n",
       "      <td>0</td>\n",
       "    </tr>\n",
       "    <tr>\n",
       "      <th>doc14</th>\n",
       "      <td>0</td>\n",
       "      <td>1</td>\n",
       "      <td>1</td>\n",
       "      <td>1</td>\n",
       "      <td>0</td>\n",
       "      <td>0</td>\n",
       "      <td>0</td>\n",
       "      <td>0</td>\n",
       "      <td>1</td>\n",
       "      <td>0</td>\n",
       "    </tr>\n",
       "    <tr>\n",
       "      <th>doc15</th>\n",
       "      <td>0</td>\n",
       "      <td>0</td>\n",
       "      <td>0</td>\n",
       "      <td>1</td>\n",
       "      <td>0</td>\n",
       "      <td>1</td>\n",
       "      <td>1</td>\n",
       "      <td>1</td>\n",
       "      <td>0</td>\n",
       "      <td>0</td>\n",
       "    </tr>\n",
       "    <tr>\n",
       "      <th>doc16</th>\n",
       "      <td>1</td>\n",
       "      <td>0</td>\n",
       "      <td>0</td>\n",
       "      <td>0</td>\n",
       "      <td>0</td>\n",
       "      <td>1</td>\n",
       "      <td>0</td>\n",
       "      <td>0</td>\n",
       "      <td>1</td>\n",
       "      <td>0</td>\n",
       "    </tr>\n",
       "    <tr>\n",
       "      <th>doc17</th>\n",
       "      <td>0</td>\n",
       "      <td>1</td>\n",
       "      <td>1</td>\n",
       "      <td>1</td>\n",
       "      <td>0</td>\n",
       "      <td>0</td>\n",
       "      <td>0</td>\n",
       "      <td>1</td>\n",
       "      <td>0</td>\n",
       "      <td>0</td>\n",
       "    </tr>\n",
       "    <tr>\n",
       "      <th>doc18</th>\n",
       "      <td>0</td>\n",
       "      <td>0</td>\n",
       "      <td>0</td>\n",
       "      <td>1</td>\n",
       "      <td>0</td>\n",
       "      <td>0</td>\n",
       "      <td>0</td>\n",
       "      <td>0</td>\n",
       "      <td>1</td>\n",
       "      <td>0</td>\n",
       "    </tr>\n",
       "    <tr>\n",
       "      <th>doc19</th>\n",
       "      <td>0</td>\n",
       "      <td>1</td>\n",
       "      <td>1</td>\n",
       "      <td>0</td>\n",
       "      <td>1</td>\n",
       "      <td>0</td>\n",
       "      <td>1</td>\n",
       "      <td>0</td>\n",
       "      <td>0</td>\n",
       "      <td>1</td>\n",
       "    </tr>\n",
       "    <tr>\n",
       "      <th>doc20</th>\n",
       "      <td>0</td>\n",
       "      <td>0</td>\n",
       "      <td>1</td>\n",
       "      <td>1</td>\n",
       "      <td>0</td>\n",
       "      <td>0</td>\n",
       "      <td>1</td>\n",
       "      <td>0</td>\n",
       "      <td>1</td>\n",
       "      <td>0</td>\n",
       "    </tr>\n",
       "  </tbody>\n",
       "</table>\n",
       "</div>"
      ],
      "text/plain": [
       "       baseball  economics  politics  Europe  Asia  soccer  war  security  \\\n",
       "doc1          1          0         1       0     1       1    0         0   \n",
       "doc2          0          1         1       1     0       0    0         1   \n",
       "doc3          0          0         0       1     1       1    0         0   \n",
       "doc4          0          0         1       1     0       0    1         1   \n",
       "doc5          0          1         0       0     0       0    0         0   \n",
       "doc6          1          0         0       1     0       0    0         0   \n",
       "doc7          0          0         0       0     0       0    0         1   \n",
       "doc8          0          0         1       1     0       0    1         0   \n",
       "doc9          0          0         0       0     0       1    0         0   \n",
       "doc10         0          1         0       0     1       0    1         0   \n",
       "doc11         0          0         1       0     1       0    0         0   \n",
       "doc12         1          0         0       0     0       1    1         0   \n",
       "doc13         0          0         1       1     1       0    0         1   \n",
       "doc14         0          1         1       1     0       0    0         0   \n",
       "doc15         0          0         0       1     0       1    1         1   \n",
       "doc16         1          0         0       0     0       1    0         0   \n",
       "doc17         0          1         1       1     0       0    0         1   \n",
       "doc18         0          0         0       1     0       0    0         0   \n",
       "doc19         0          1         1       0     1       0    1         0   \n",
       "doc20         0          0         1       1     0       0    1         0   \n",
       "\n",
       "       shopping  family  \n",
       "doc1          0       1  \n",
       "doc2          0       0  \n",
       "doc3          0       0  \n",
       "doc4          0       0  \n",
       "doc5          1       1  \n",
       "doc6          0       0  \n",
       "doc7          0       1  \n",
       "doc8          0       1  \n",
       "doc9          1       0  \n",
       "doc10         0       0  \n",
       "doc11         1       0  \n",
       "doc12         0       0  \n",
       "doc13         0       0  \n",
       "doc14         1       0  \n",
       "doc15         0       0  \n",
       "doc16         1       0  \n",
       "doc17         0       0  \n",
       "doc18         1       0  \n",
       "doc19         0       1  \n",
       "doc20         1       0  "
      ]
     },
     "execution_count": 90,
     "metadata": {},
     "output_type": "execute_result"
    }
   ],
   "source": [
    "full_df = pd.read_csv('./data.csv', index_col=0)\n",
    "full_df"
   ]
  },
  {
   "cell_type": "markdown",
   "metadata": {},
   "source": [
    "데이터를 살펴보았으니 원래 엑셀에 있던 두가지의 데이터를 만들어 주도록 하겠습니다. <br>\n",
    "1. 문서별 속성 수\n",
    "2. Document Frequency"
   ]
  },
  {
   "cell_type": "code",
   "execution_count": 4,
   "metadata": {},
   "outputs": [
    {
     "data": {
      "text/plain": [
       "doc1    5\n",
       "doc2    4\n",
       "doc3    3\n",
       "doc4    4\n",
       "doc5    3\n",
       "dtype: int64"
      ]
     },
     "execution_count": 4,
     "metadata": {},
     "output_type": "execute_result"
    }
   ],
   "source": [
    "num_attr = full_df[full_df == 1].count(axis=1)\n",
    "num_attr.head()"
   ]
  },
  {
   "cell_type": "code",
   "execution_count": 5,
   "metadata": {},
   "outputs": [
    {
     "data": {
      "text/plain": [
       "baseball      4\n",
       "economics     6\n",
       "politics     10\n",
       "Europe       11\n",
       "Asia          6\n",
       "dtype: int64"
      ]
     },
     "execution_count": 5,
     "metadata": {},
     "output_type": "execute_result"
    }
   ],
   "source": [
    "doc_freq = full_df[full_df == 1].count()\n",
    "doc_freq.head()"
   ]
  },
  {
   "cell_type": "markdown",
   "metadata": {},
   "source": [
    "### 프로필 구축\n",
    "이제 문제의 지시대로 사용자의 프로필을 구축해보겠습니다. <br>\n",
    "이 문제에서 사용자 프로필이란 곧 각 속성들에 대한 사용자의 선호도 입니다.\n",
    "\n",
    "Pandas의 Boolnean Indexing을 사용해 긍정적 부정적 평가들의 합을 구한뒤 빼주면 사용자으 프로필이 완성됩니다."
   ]
  },
  {
   "cell_type": "code",
   "execution_count": 6,
   "metadata": {},
   "outputs": [
    {
     "data": {
      "text/plain": [
       "baseball     3\n",
       "economics   -2\n",
       "politics    -1\n",
       "Europe       0\n",
       "Asia         0\n",
       "soccer       2\n",
       "war         -1\n",
       "security    -1\n",
       "shopping     1\n",
       "family       0\n",
       "dtype: int64"
      ]
     },
     "execution_count": 6,
     "metadata": {},
     "output_type": "execute_result"
    }
   ],
   "source": [
    "user_profile1 = full_df[(users_df['User 1'] == 1)].sum() - full_df[(users_df['User 1'] == -1)].sum()\n",
    "user_profile1"
   ]
  },
  {
   "cell_type": "code",
   "execution_count": 7,
   "metadata": {},
   "outputs": [
    {
     "data": {
      "text/plain": [
       "baseball    -2\n",
       "economics    2\n",
       "politics     2\n",
       "Europe       3\n",
       "Asia        -1\n",
       "soccer      -2\n",
       "war          0\n",
       "security     3\n",
       "shopping     0\n",
       "family      -1\n",
       "dtype: int64"
      ]
     },
     "execution_count": 7,
     "metadata": {},
     "output_type": "execute_result"
    }
   ],
   "source": [
    "user_profile2 = full_df[(users_df['User 2'] == 1)].sum() - full_df[(users_df['User 2'] == -1)].sum()\n",
    "user_profile2"
   ]
  },
  {
   "cell_type": "markdown",
   "metadata": {},
   "source": [
    "### 예측값\n",
    "이제 사용자의 프로필을 사용해 평가하지 않은 문서들에 대한 예측값을 내보도록 하겠습니다. <br>\n",
    "예측값은 각 문서의 평가를 벡터로 만들어 사용자의 프로필과 내적곱을 하면 됩니다."
   ]
  },
  {
   "cell_type": "code",
   "execution_count": 8,
   "metadata": {},
   "outputs": [
    {
     "data": {
      "text/plain": [
       "doc1     4\n",
       "doc2    -4\n",
       "doc3     2\n",
       "doc4    -3\n",
       "doc5    -1\n",
       "doc6     3\n",
       "doc7    -1\n",
       "doc8    -2\n",
       "doc9     3\n",
       "doc10   -3\n",
       "doc11    0\n",
       "doc12    4\n",
       "doc13   -2\n",
       "doc14   -2\n",
       "doc15    0\n",
       "doc16    6\n",
       "doc17   -4\n",
       "doc18    1\n",
       "doc19   -4\n",
       "doc20   -1\n",
       "dtype: int64"
      ]
     },
     "execution_count": 8,
     "metadata": {},
     "output_type": "execute_result"
    }
   ],
   "source": [
    "user_predictions1 = pd.Series([\n",
    "    full_df.iloc[i].dot(user_profile1) for i in range(len(full_df.index))\n",
    "], index=full_df.index)\n",
    "\n",
    "user_predictions1"
   ]
  },
  {
   "cell_type": "code",
   "execution_count": 9,
   "metadata": {},
   "outputs": [
    {
     "data": {
      "text/plain": [
       "doc1     -4\n",
       "doc2     10\n",
       "doc3      0\n",
       "doc4      8\n",
       "doc5      1\n",
       "doc6      1\n",
       "doc7      2\n",
       "doc8      4\n",
       "doc9     -2\n",
       "doc10     1\n",
       "doc11     1\n",
       "doc12    -4\n",
       "doc13     7\n",
       "doc14     7\n",
       "doc15     4\n",
       "doc16    -4\n",
       "doc17    10\n",
       "doc18     3\n",
       "doc19     2\n",
       "doc20     5\n",
       "dtype: int64"
      ]
     },
     "execution_count": 9,
     "metadata": {},
     "output_type": "execute_result"
    }
   ],
   "source": [
    "user_predictions2 = pd.Series([\n",
    "    full_df.iloc[i].dot(user_profile2) for i in range(len(full_df.index))\n",
    "], index=full_df.index)\n",
    "\n",
    "user_predictions2"
   ]
  },
  {
   "cell_type": "markdown",
   "metadata": {},
   "source": [
    "### 사용자1이 가장 좋아하는 문서\n",
    "이제 프로필을 구했으니, 첫번째 질문에 대한 답을 구해보도록 하겠습니다. <br>\n",
    "단순하게 user_prediction내의 max값을 구하면 됩니다,"
   ]
  },
  {
   "cell_type": "code",
   "execution_count": 10,
   "metadata": {},
   "outputs": [
    {
     "data": {
      "text/plain": [
       "'doc16'"
      ]
     },
     "execution_count": 10,
     "metadata": {},
     "output_type": "execute_result"
    }
   ],
   "source": [
    "# idxmax() --> max값의 인덱스를 리턴\n",
    "user_predictions1.idxmax()"
   ]
  },
  {
   "cell_type": "markdown",
   "metadata": {},
   "source": [
    "### 사용자1이 가장 좋아하는 문서의 점수\n",
    "두번째 문제는 해당 문서에 대한 점수를 물어보고 있습니다. <br>\n",
    "이번에는 idxmax가 아닌 단순 max를 사용하면 됩니다."
   ]
  },
  {
   "cell_type": "code",
   "execution_count": 11,
   "metadata": {},
   "outputs": [
    {
     "data": {
      "text/plain": [
       "6"
      ]
     },
     "execution_count": 11,
     "metadata": {},
     "output_type": "execute_result"
    }
   ],
   "source": [
    "user_predictions1.max()"
   ]
  },
  {
   "cell_type": "markdown",
   "metadata": {},
   "source": [
    "### 사용자2가 부정적으로 평가할 것 같은 문서들\n",
    "세번째 질문은 사용자2가 부정적으로 평가할 것 같은 문서들입니다. <br>\n",
    "이 경우 Boolean Indexing을 통해 구해보도록 하겠습니다."
   ]
  },
  {
   "cell_type": "code",
   "execution_count": 12,
   "metadata": {},
   "outputs": [
    {
     "data": {
      "text/plain": [
       "doc1    -4\n",
       "doc9    -2\n",
       "doc12   -4\n",
       "doc16   -4\n",
       "dtype: int64"
      ]
     },
     "execution_count": 12,
     "metadata": {},
     "output_type": "execute_result"
    }
   ],
   "source": [
    "user_predictions2[user_predictions2 < 0]"
   ]
  },
  {
   "cell_type": "markdown",
   "metadata": {},
   "source": [
    "# 2. 가중치\n",
    "위의 예제에서는 속성이 많은 문서들이 많은 어드벤티지를 가져갔을 수 있다. 이를 확인하기 위해서 벡터들의 길이로 나눠 계산을 하고싶다. 이를 수행하기 위해 각 행을 정규화하는 작업을 하시오. 제대로 했다면 doc1의 값들은 1에서 0.447214로 바뀔것이다.<br>\n",
    "정규화를 적용해 새로운 값들이 나왔다면, 새로운 사용자 프로필과 예측값들을 구축하시오.<br>\n",
    "결과값이 제대로 나왔다면, 사용자2의 doc7에 대한 예측값은 0.7444, doc19에 대한 예측값은 0.4834가 될것이다.\n",
    "\n",
    "첫번째 예측의 결과값을 보면, 사용자1에 대한 예측값의 2등과 3등은 동점이었고 doc1과 doc12였다. <br>\n",
    "새로운 데이터를 이용해 다음 질문에 답해보시오:\n",
    "1. 새로운 모델에서는 어떤 문서들이 2등인가?\n",
    "2. 2등의 점수는?"
   ]
  },
  {
   "cell_type": "markdown",
   "metadata": {},
   "source": [
    "## 데이터에 가중치 적용하기\n",
    "기존 데이터셋에 문제에서 이야기한 가중치를 적용해보겠습니다. <br>\n",
    "먼저 각 줄의 값들을 더하고, 그 값에 루트를 취해줍니다. 그렇다면 루트값의 벡터가 나오겠죠. <br>\n",
    "그리고 데이터셋의 한 줄을 벡터의 한 원소로 나누어주면 다음과 같은 결과를 얻을 수 있습니다."
   ]
  },
  {
   "cell_type": "code",
   "execution_count": 38,
   "metadata": {},
   "outputs": [
    {
     "data": {
      "text/html": [
       "<div>\n",
       "<style scoped>\n",
       "    .dataframe tbody tr th:only-of-type {\n",
       "        vertical-align: middle;\n",
       "    }\n",
       "\n",
       "    .dataframe tbody tr th {\n",
       "        vertical-align: top;\n",
       "    }\n",
       "\n",
       "    .dataframe thead th {\n",
       "        text-align: right;\n",
       "    }\n",
       "</style>\n",
       "<table border=\"1\" class=\"dataframe\">\n",
       "  <thead>\n",
       "    <tr style=\"text-align: right;\">\n",
       "      <th></th>\n",
       "      <th>baseball</th>\n",
       "      <th>economics</th>\n",
       "      <th>politics</th>\n",
       "      <th>Europe</th>\n",
       "      <th>Asia</th>\n",
       "      <th>soccer</th>\n",
       "      <th>war</th>\n",
       "      <th>security</th>\n",
       "      <th>shopping</th>\n",
       "      <th>family</th>\n",
       "    </tr>\n",
       "  </thead>\n",
       "  <tbody>\n",
       "    <tr>\n",
       "      <th>doc1</th>\n",
       "      <td>0.447214</td>\n",
       "      <td>0.000000</td>\n",
       "      <td>0.447214</td>\n",
       "      <td>0.000000</td>\n",
       "      <td>0.447214</td>\n",
       "      <td>0.447214</td>\n",
       "      <td>0.000000</td>\n",
       "      <td>0.000000</td>\n",
       "      <td>0.000000</td>\n",
       "      <td>0.447214</td>\n",
       "    </tr>\n",
       "    <tr>\n",
       "      <th>doc2</th>\n",
       "      <td>0.000000</td>\n",
       "      <td>0.500000</td>\n",
       "      <td>0.500000</td>\n",
       "      <td>0.500000</td>\n",
       "      <td>0.000000</td>\n",
       "      <td>0.000000</td>\n",
       "      <td>0.000000</td>\n",
       "      <td>0.500000</td>\n",
       "      <td>0.000000</td>\n",
       "      <td>0.000000</td>\n",
       "    </tr>\n",
       "    <tr>\n",
       "      <th>doc3</th>\n",
       "      <td>0.000000</td>\n",
       "      <td>0.000000</td>\n",
       "      <td>0.000000</td>\n",
       "      <td>0.577350</td>\n",
       "      <td>0.577350</td>\n",
       "      <td>0.577350</td>\n",
       "      <td>0.000000</td>\n",
       "      <td>0.000000</td>\n",
       "      <td>0.000000</td>\n",
       "      <td>0.000000</td>\n",
       "    </tr>\n",
       "    <tr>\n",
       "      <th>doc4</th>\n",
       "      <td>0.000000</td>\n",
       "      <td>0.000000</td>\n",
       "      <td>0.500000</td>\n",
       "      <td>0.500000</td>\n",
       "      <td>0.000000</td>\n",
       "      <td>0.000000</td>\n",
       "      <td>0.500000</td>\n",
       "      <td>0.500000</td>\n",
       "      <td>0.000000</td>\n",
       "      <td>0.000000</td>\n",
       "    </tr>\n",
       "    <tr>\n",
       "      <th>doc5</th>\n",
       "      <td>0.000000</td>\n",
       "      <td>0.577350</td>\n",
       "      <td>0.000000</td>\n",
       "      <td>0.000000</td>\n",
       "      <td>0.000000</td>\n",
       "      <td>0.000000</td>\n",
       "      <td>0.000000</td>\n",
       "      <td>0.000000</td>\n",
       "      <td>0.577350</td>\n",
       "      <td>0.577350</td>\n",
       "    </tr>\n",
       "    <tr>\n",
       "      <th>doc6</th>\n",
       "      <td>0.707107</td>\n",
       "      <td>0.000000</td>\n",
       "      <td>0.000000</td>\n",
       "      <td>0.707107</td>\n",
       "      <td>0.000000</td>\n",
       "      <td>0.000000</td>\n",
       "      <td>0.000000</td>\n",
       "      <td>0.000000</td>\n",
       "      <td>0.000000</td>\n",
       "      <td>0.000000</td>\n",
       "    </tr>\n",
       "    <tr>\n",
       "      <th>doc7</th>\n",
       "      <td>0.000000</td>\n",
       "      <td>0.000000</td>\n",
       "      <td>0.000000</td>\n",
       "      <td>0.000000</td>\n",
       "      <td>0.000000</td>\n",
       "      <td>0.000000</td>\n",
       "      <td>0.000000</td>\n",
       "      <td>0.707107</td>\n",
       "      <td>0.000000</td>\n",
       "      <td>0.707107</td>\n",
       "    </tr>\n",
       "    <tr>\n",
       "      <th>doc8</th>\n",
       "      <td>0.000000</td>\n",
       "      <td>0.000000</td>\n",
       "      <td>0.500000</td>\n",
       "      <td>0.500000</td>\n",
       "      <td>0.000000</td>\n",
       "      <td>0.000000</td>\n",
       "      <td>0.500000</td>\n",
       "      <td>0.000000</td>\n",
       "      <td>0.000000</td>\n",
       "      <td>0.500000</td>\n",
       "    </tr>\n",
       "    <tr>\n",
       "      <th>doc9</th>\n",
       "      <td>0.000000</td>\n",
       "      <td>0.000000</td>\n",
       "      <td>0.000000</td>\n",
       "      <td>0.000000</td>\n",
       "      <td>0.000000</td>\n",
       "      <td>0.707107</td>\n",
       "      <td>0.000000</td>\n",
       "      <td>0.000000</td>\n",
       "      <td>0.707107</td>\n",
       "      <td>0.000000</td>\n",
       "    </tr>\n",
       "    <tr>\n",
       "      <th>doc10</th>\n",
       "      <td>0.000000</td>\n",
       "      <td>0.577350</td>\n",
       "      <td>0.000000</td>\n",
       "      <td>0.000000</td>\n",
       "      <td>0.577350</td>\n",
       "      <td>0.000000</td>\n",
       "      <td>0.577350</td>\n",
       "      <td>0.000000</td>\n",
       "      <td>0.000000</td>\n",
       "      <td>0.000000</td>\n",
       "    </tr>\n",
       "    <tr>\n",
       "      <th>doc11</th>\n",
       "      <td>0.000000</td>\n",
       "      <td>0.000000</td>\n",
       "      <td>0.577350</td>\n",
       "      <td>0.000000</td>\n",
       "      <td>0.577350</td>\n",
       "      <td>0.000000</td>\n",
       "      <td>0.000000</td>\n",
       "      <td>0.000000</td>\n",
       "      <td>0.577350</td>\n",
       "      <td>0.000000</td>\n",
       "    </tr>\n",
       "    <tr>\n",
       "      <th>doc12</th>\n",
       "      <td>0.577350</td>\n",
       "      <td>0.000000</td>\n",
       "      <td>0.000000</td>\n",
       "      <td>0.000000</td>\n",
       "      <td>0.000000</td>\n",
       "      <td>0.577350</td>\n",
       "      <td>0.577350</td>\n",
       "      <td>0.000000</td>\n",
       "      <td>0.000000</td>\n",
       "      <td>0.000000</td>\n",
       "    </tr>\n",
       "    <tr>\n",
       "      <th>doc13</th>\n",
       "      <td>0.000000</td>\n",
       "      <td>0.000000</td>\n",
       "      <td>0.500000</td>\n",
       "      <td>0.500000</td>\n",
       "      <td>0.500000</td>\n",
       "      <td>0.000000</td>\n",
       "      <td>0.000000</td>\n",
       "      <td>0.500000</td>\n",
       "      <td>0.000000</td>\n",
       "      <td>0.000000</td>\n",
       "    </tr>\n",
       "    <tr>\n",
       "      <th>doc14</th>\n",
       "      <td>0.000000</td>\n",
       "      <td>0.500000</td>\n",
       "      <td>0.500000</td>\n",
       "      <td>0.500000</td>\n",
       "      <td>0.000000</td>\n",
       "      <td>0.000000</td>\n",
       "      <td>0.000000</td>\n",
       "      <td>0.000000</td>\n",
       "      <td>0.500000</td>\n",
       "      <td>0.000000</td>\n",
       "    </tr>\n",
       "    <tr>\n",
       "      <th>doc15</th>\n",
       "      <td>0.000000</td>\n",
       "      <td>0.000000</td>\n",
       "      <td>0.000000</td>\n",
       "      <td>0.500000</td>\n",
       "      <td>0.000000</td>\n",
       "      <td>0.500000</td>\n",
       "      <td>0.500000</td>\n",
       "      <td>0.500000</td>\n",
       "      <td>0.000000</td>\n",
       "      <td>0.000000</td>\n",
       "    </tr>\n",
       "    <tr>\n",
       "      <th>doc16</th>\n",
       "      <td>0.577350</td>\n",
       "      <td>0.000000</td>\n",
       "      <td>0.000000</td>\n",
       "      <td>0.000000</td>\n",
       "      <td>0.000000</td>\n",
       "      <td>0.577350</td>\n",
       "      <td>0.000000</td>\n",
       "      <td>0.000000</td>\n",
       "      <td>0.577350</td>\n",
       "      <td>0.000000</td>\n",
       "    </tr>\n",
       "    <tr>\n",
       "      <th>doc17</th>\n",
       "      <td>0.000000</td>\n",
       "      <td>0.500000</td>\n",
       "      <td>0.500000</td>\n",
       "      <td>0.500000</td>\n",
       "      <td>0.000000</td>\n",
       "      <td>0.000000</td>\n",
       "      <td>0.000000</td>\n",
       "      <td>0.500000</td>\n",
       "      <td>0.000000</td>\n",
       "      <td>0.000000</td>\n",
       "    </tr>\n",
       "    <tr>\n",
       "      <th>doc18</th>\n",
       "      <td>0.000000</td>\n",
       "      <td>0.000000</td>\n",
       "      <td>0.000000</td>\n",
       "      <td>0.707107</td>\n",
       "      <td>0.000000</td>\n",
       "      <td>0.000000</td>\n",
       "      <td>0.000000</td>\n",
       "      <td>0.000000</td>\n",
       "      <td>0.707107</td>\n",
       "      <td>0.000000</td>\n",
       "    </tr>\n",
       "    <tr>\n",
       "      <th>doc19</th>\n",
       "      <td>0.000000</td>\n",
       "      <td>0.447214</td>\n",
       "      <td>0.447214</td>\n",
       "      <td>0.000000</td>\n",
       "      <td>0.447214</td>\n",
       "      <td>0.000000</td>\n",
       "      <td>0.447214</td>\n",
       "      <td>0.000000</td>\n",
       "      <td>0.000000</td>\n",
       "      <td>0.447214</td>\n",
       "    </tr>\n",
       "    <tr>\n",
       "      <th>doc20</th>\n",
       "      <td>0.000000</td>\n",
       "      <td>0.000000</td>\n",
       "      <td>0.500000</td>\n",
       "      <td>0.500000</td>\n",
       "      <td>0.000000</td>\n",
       "      <td>0.000000</td>\n",
       "      <td>0.500000</td>\n",
       "      <td>0.000000</td>\n",
       "      <td>0.500000</td>\n",
       "      <td>0.000000</td>\n",
       "    </tr>\n",
       "  </tbody>\n",
       "</table>\n",
       "</div>"
      ],
      "text/plain": [
       "       baseball  economics  politics    Europe      Asia    soccer       war  \\\n",
       "doc1   0.447214   0.000000  0.447214  0.000000  0.447214  0.447214  0.000000   \n",
       "doc2   0.000000   0.500000  0.500000  0.500000  0.000000  0.000000  0.000000   \n",
       "doc3   0.000000   0.000000  0.000000  0.577350  0.577350  0.577350  0.000000   \n",
       "doc4   0.000000   0.000000  0.500000  0.500000  0.000000  0.000000  0.500000   \n",
       "doc5   0.000000   0.577350  0.000000  0.000000  0.000000  0.000000  0.000000   \n",
       "doc6   0.707107   0.000000  0.000000  0.707107  0.000000  0.000000  0.000000   \n",
       "doc7   0.000000   0.000000  0.000000  0.000000  0.000000  0.000000  0.000000   \n",
       "doc8   0.000000   0.000000  0.500000  0.500000  0.000000  0.000000  0.500000   \n",
       "doc9   0.000000   0.000000  0.000000  0.000000  0.000000  0.707107  0.000000   \n",
       "doc10  0.000000   0.577350  0.000000  0.000000  0.577350  0.000000  0.577350   \n",
       "doc11  0.000000   0.000000  0.577350  0.000000  0.577350  0.000000  0.000000   \n",
       "doc12  0.577350   0.000000  0.000000  0.000000  0.000000  0.577350  0.577350   \n",
       "doc13  0.000000   0.000000  0.500000  0.500000  0.500000  0.000000  0.000000   \n",
       "doc14  0.000000   0.500000  0.500000  0.500000  0.000000  0.000000  0.000000   \n",
       "doc15  0.000000   0.000000  0.000000  0.500000  0.000000  0.500000  0.500000   \n",
       "doc16  0.577350   0.000000  0.000000  0.000000  0.000000  0.577350  0.000000   \n",
       "doc17  0.000000   0.500000  0.500000  0.500000  0.000000  0.000000  0.000000   \n",
       "doc18  0.000000   0.000000  0.000000  0.707107  0.000000  0.000000  0.000000   \n",
       "doc19  0.000000   0.447214  0.447214  0.000000  0.447214  0.000000  0.447214   \n",
       "doc20  0.000000   0.000000  0.500000  0.500000  0.000000  0.000000  0.500000   \n",
       "\n",
       "       security  shopping    family  \n",
       "doc1   0.000000  0.000000  0.447214  \n",
       "doc2   0.500000  0.000000  0.000000  \n",
       "doc3   0.000000  0.000000  0.000000  \n",
       "doc4   0.500000  0.000000  0.000000  \n",
       "doc5   0.000000  0.577350  0.577350  \n",
       "doc6   0.000000  0.000000  0.000000  \n",
       "doc7   0.707107  0.000000  0.707107  \n",
       "doc8   0.000000  0.000000  0.500000  \n",
       "doc9   0.000000  0.707107  0.000000  \n",
       "doc10  0.000000  0.000000  0.000000  \n",
       "doc11  0.000000  0.577350  0.000000  \n",
       "doc12  0.000000  0.000000  0.000000  \n",
       "doc13  0.500000  0.000000  0.000000  \n",
       "doc14  0.000000  0.500000  0.000000  \n",
       "doc15  0.500000  0.000000  0.000000  \n",
       "doc16  0.000000  0.577350  0.000000  \n",
       "doc17  0.500000  0.000000  0.000000  \n",
       "doc18  0.000000  0.707107  0.000000  \n",
       "doc19  0.000000  0.000000  0.447214  \n",
       "doc20  0.000000  0.500000  0.000000  "
      ]
     },
     "execution_count": 38,
     "metadata": {},
     "output_type": "execute_result"
    }
   ],
   "source": [
    "import math\n",
    "\n",
    "weights = full_df.T.apply(sum).apply(math.sqrt)\n",
    "weighted_df = full_df.div(weights, axis=0)\n",
    "weighted_df"
   ]
  },
  {
   "cell_type": "markdown",
   "metadata": {},
   "source": [
    "결과를 보시면, doc1의 값이 모두 0.447214인것을 보실 수 있습니다."
   ]
  },
  {
   "cell_type": "markdown",
   "metadata": {},
   "source": [
    "## 사용자 프로필 구축\n",
    "이제 사용자 프로필을 구축해 보겠습니다. 프로세스는 1번과 같습니다."
   ]
  },
  {
   "cell_type": "code",
   "execution_count": 39,
   "metadata": {},
   "outputs": [
    {
     "data": {
      "text/plain": [
       "baseball     1.731671\n",
       "economics   -0.947214\n",
       "politics    -0.500000\n",
       "Europe       0.207107\n",
       "Asia         0.000000\n",
       "soccer       1.024564\n",
       "war         -0.447214\n",
       "security    -0.500000\n",
       "shopping     0.577350\n",
       "family       0.000000\n",
       "dtype: float64"
      ]
     },
     "execution_count": 39,
     "metadata": {},
     "output_type": "execute_result"
    }
   ],
   "source": [
    "weighted_profile1 = weighted_df[(users_df['User 1'] == 1)].sum() - weighted_df[(users_df['User 1'] == -1)].sum()\n",
    "weighted_profile1"
   ]
  },
  {
   "cell_type": "code",
   "execution_count": 45,
   "metadata": {},
   "outputs": [
    {
     "data": {
      "text/plain": [
       "baseball    -1.024564\n",
       "economics    1.000000\n",
       "politics     1.052786\n",
       "Europe       1.500000\n",
       "Asia        -0.447214\n",
       "soccer      -1.024564\n",
       "war         -0.077350\n",
       "security     1.500000\n",
       "shopping     0.000000\n",
       "family      -0.447214\n",
       "dtype: float64"
      ]
     },
     "execution_count": 45,
     "metadata": {},
     "output_type": "execute_result"
    }
   ],
   "source": [
    "weighted_profile2 = weighted_df[(users_df['User 2'] == 1)].sum() - weighted_df[(users_df['User 2'] == -1)].sum()\n",
    "weighted_profile2"
   ]
  },
  {
   "cell_type": "markdown",
   "metadata": {},
   "source": [
    "## 예측값 계산\n",
    "사용자 프로필을 사용해 1번과 같은 방식으로 예측값을 계산해 보겠습니다."
   ]
  },
  {
   "cell_type": "code",
   "execution_count": 43,
   "metadata": {},
   "outputs": [
    {
     "data": {
      "text/plain": [
       "doc1     1.009019\n",
       "doc2    -0.870053\n",
       "doc3     0.711105\n",
       "doc4    -0.620053\n",
       "doc5    -0.213541\n",
       "doc6     1.370923\n",
       "doc7    -0.353553\n",
       "doc8    -0.370053\n",
       "doc9     1.132724\n",
       "doc10   -0.805073\n",
       "doc11    0.044658\n",
       "doc12    1.333114\n",
       "doc13   -0.396447\n",
       "doc14   -0.331378\n",
       "doc15    0.142229\n",
       "doc16    1.924646\n",
       "doc17   -0.870053\n",
       "doc18    0.554695\n",
       "doc19   -0.847214\n",
       "doc20   -0.081378\n",
       "dtype: float64"
      ]
     },
     "execution_count": 43,
     "metadata": {},
     "output_type": "execute_result"
    }
   ],
   "source": [
    "weighted_predictions1 = pd.Series([\n",
    "    weighted_df.iloc[i].dot(weighted_profile1) for i in range(len(weighted_df.index))\n",
    "], index=full_df.index)\n",
    "\n",
    "weighted_predictions1"
   ]
  },
  {
   "cell_type": "code",
   "execution_count": 77,
   "metadata": {},
   "outputs": [
    {
     "data": {
      "text/plain": [
       "doc1    -0.845577\n",
       "doc2     2.526393\n",
       "doc3     0.016294\n",
       "doc4     1.987718\n",
       "doc5     0.319151\n",
       "doc6     0.336184\n",
       "doc7     0.744432\n",
       "doc8     1.014111\n",
       "doc9    -0.724476\n",
       "doc10    0.274493\n",
       "doc11    0.349628\n",
       "doc12   -1.227723\n",
       "doc13    1.802786\n",
       "doc14    1.776393\n",
       "doc15    0.949043\n",
       "doc16   -1.183064\n",
       "doc17    2.526393\n",
       "doc18    1.060660\n",
       "doc19    0.483442\n",
       "doc20    1.237718\n",
       "dtype: float64"
      ]
     },
     "execution_count": 77,
     "metadata": {},
     "output_type": "execute_result"
    }
   ],
   "source": [
    "weighted_predictions2 = pd.Series([\n",
    "    weighted_df.iloc[i].dot(weighted_profile2) for i in range(len(weighted_df.index))\n",
    "], index=full_df.index)\n",
    "\n",
    "weighted_predictions2"
   ]
  },
  {
   "cell_type": "raw",
   "metadata": {},
   "source": [
    "결과를 보면, 사용자2의 doc7에대한 예측값은 문제에서 이야기한대로 0.7444, doc19에 대한 예측값은 0.4834인 것을 보실 수 있습니다."
   ]
  },
  {
   "cell_type": "markdown",
   "metadata": {},
   "source": [
    "### 사용자1이 두번째로 좋아할 것 같은 문서\n",
    "이제 질문에 답해보도록 하겠습니다. 두번째로 좋아할 것 같은 문서는 간단하게 정렬해서 첫 몇개의 결과를 찾아보면 될것입니다."
   ]
  },
  {
   "cell_type": "code",
   "execution_count": 89,
   "metadata": {},
   "outputs": [
    {
     "data": {
      "text/plain": [
       "doc16    1.924646\n",
       "doc6     1.370923\n",
       "doc12    1.333114\n",
       "doc9     1.132724\n",
       "doc1     1.009019\n",
       "dtype: float64"
      ]
     },
     "execution_count": 89,
     "metadata": {},
     "output_type": "execute_result"
    }
   ],
   "source": [
    "weighted_predictions1.sort_values(ascending=False).head()"
   ]
  },
  {
   "cell_type": "markdown",
   "metadata": {},
   "source": [
    "결과를 보시면 상위 두번째 결과는 doc6 그에 대한 점수는 1.37인 것을 볼 수 있고, 위 1번의 결과와 다르다는것을 볼 수 있습니다. <br>\n",
    "흥미로운것은 doc1과 doc12가 아직 상위권에 있지만 각각 5위와 3위로 밀려난 것을 볼 수 있습니다."
   ]
  },
  {
   "cell_type": "markdown",
   "metadata": {},
   "source": [
    "# 3. IDF\n",
    "IDF를 적용해 하나의 모델을 더 만들어보시오. IDF = 1/DF를 구한 뒤 문서벡터 * 프로필 * IDF로 예측값을 구해보시오. <br>\n",
    "또한 해당 모델을 기반으로 다음 두 질문에 답하시오:\n",
    "1. 사용자1의 doc1과 doc9의 값을 비교해보자. 사용자1의 doc9에 대한 예측이 이전 모델과 어떻게 다른가?\n",
    "2. 사용자2의 doc6에 대한 예측값을 보자. 전에는 약간 긍정적인 예측이었지만, 이번에는 약간 부정적인 에측이다. 왜 바뀌었는가?"
   ]
  },
  {
   "cell_type": "code",
   "execution_count": 86,
   "metadata": {
    "scrolled": false
   },
   "outputs": [
    {
     "data": {
      "text/plain": [
       "doc1     0.247612\n",
       "doc2    -0.136187\n",
       "doc3     0.109459\n",
       "doc4    -0.089197\n",
       "doc5    -0.043527\n",
       "doc6     0.319432\n",
       "doc7    -0.058926\n",
       "doc8    -0.047530\n",
       "doc9     0.179067\n",
       "doc10   -0.128031\n",
       "doc11    0.018752\n",
       "doc12    0.311648\n",
       "doc13   -0.057253\n",
       "doc14   -0.053281\n",
       "doc15    0.021184\n",
       "doc16    0.396153\n",
       "doc17   -0.136187\n",
       "doc18    0.071635\n",
       "doc19   -0.121533\n",
       "doc20   -0.006291\n",
       "dtype: float64"
      ]
     },
     "execution_count": 86,
     "metadata": {},
     "output_type": "execute_result"
    }
   ],
   "source": [
    "idf = doc_freq.apply(lambda x: 1/x)\n",
    "idf_predictions1 = pd.Series([\n",
    "    sum(weighted_df.iloc[i].values * weighted_profile1.values * idf.values) for i in range(len(weighted_df.index))\n",
    "], index=full_df.index)\n",
    "idf_predictions1"
   ]
  },
  {
   "cell_type": "code",
   "execution_count": 83,
   "metadata": {},
   "outputs": [
    {
     "data": {
      "text/plain": [
       "doc1    -0.217167\n",
       "doc2     0.329154\n",
       "doc3    -0.062892\n",
       "doc4     0.240296\n",
       "doc5     0.044585\n",
       "doc6    -0.084695\n",
       "doc7     0.113531\n",
       "doc8     0.070575\n",
       "doc9    -0.120746\n",
       "doc10    0.046812\n",
       "doc11    0.017750\n",
       "doc12   -0.252852\n",
       "doc13    0.208553\n",
       "doc14    0.204154\n",
       "doc15    0.102276\n",
       "doc16   -0.246472\n",
       "doc17    0.329154\n",
       "doc18    0.096424\n",
       "doc19    0.043343\n",
       "doc20    0.115296\n",
       "dtype: float64"
      ]
     },
     "execution_count": 83,
     "metadata": {},
     "output_type": "execute_result"
    }
   ],
   "source": [
    "idf_predictions2 = pd.Series([\n",
    "    sum(weighted_df.iloc[i].values * weighted_profile2.values * idf.values) for i in range(len(weighted_df.index))\n",
    "], index=full_df.index)\n",
    "idf_predictions2"
   ]
  },
  {
   "cell_type": "markdown",
   "metadata": {},
   "source": [
    "이제 질문에 답해보도록 하겠습니다. <br>\n",
    "먼저 이전모델에서 사용자1의 doc1과 doc9의 값들은 각각 1.009019와 1.132724로 각 5위 4위 였습니다. <br>\n",
    "이번 모델에서는 각각 0.247612와 0.179067로 쉰위가 뒤바꼈습니다. <br>\n",
    "\n",
    "이전 모델에서 사용자2의 doc6값은 0.336184였습니다. 하지만 이번 모델에서는 -0.084695로 바뀌었습니다. <br>\n",
    "이것에 대한 이유는 아래 테이블을 보면 알 수 있습니다. <br>"
   ]
  },
  {
   "cell_type": "code",
   "execution_count": 103,
   "metadata": {},
   "outputs": [
    {
     "data": {
      "text/html": [
       "<div>\n",
       "<style scoped>\n",
       "    .dataframe tbody tr th:only-of-type {\n",
       "        vertical-align: middle;\n",
       "    }\n",
       "\n",
       "    .dataframe tbody tr th {\n",
       "        vertical-align: top;\n",
       "    }\n",
       "\n",
       "    .dataframe thead th {\n",
       "        text-align: right;\n",
       "    }\n",
       "</style>\n",
       "<table border=\"1\" class=\"dataframe\">\n",
       "  <thead>\n",
       "    <tr style=\"text-align: right;\">\n",
       "      <th></th>\n",
       "      <th>tf</th>\n",
       "      <th>idf</th>\n",
       "      <th>user2</th>\n",
       "    </tr>\n",
       "  </thead>\n",
       "  <tbody>\n",
       "    <tr>\n",
       "      <th>baseball</th>\n",
       "      <td>4</td>\n",
       "      <td>0.250000</td>\n",
       "      <td>-1.024564</td>\n",
       "    </tr>\n",
       "    <tr>\n",
       "      <th>economics</th>\n",
       "      <td>0</td>\n",
       "      <td>0.166667</td>\n",
       "      <td>1.000000</td>\n",
       "    </tr>\n",
       "    <tr>\n",
       "      <th>politics</th>\n",
       "      <td>0</td>\n",
       "      <td>0.100000</td>\n",
       "      <td>1.052786</td>\n",
       "    </tr>\n",
       "    <tr>\n",
       "      <th>Europe</th>\n",
       "      <td>11</td>\n",
       "      <td>0.090909</td>\n",
       "      <td>1.500000</td>\n",
       "    </tr>\n",
       "    <tr>\n",
       "      <th>Asia</th>\n",
       "      <td>0</td>\n",
       "      <td>0.166667</td>\n",
       "      <td>-0.447214</td>\n",
       "    </tr>\n",
       "    <tr>\n",
       "      <th>soccer</th>\n",
       "      <td>0</td>\n",
       "      <td>0.166667</td>\n",
       "      <td>-1.024564</td>\n",
       "    </tr>\n",
       "    <tr>\n",
       "      <th>war</th>\n",
       "      <td>0</td>\n",
       "      <td>0.142857</td>\n",
       "      <td>-0.077350</td>\n",
       "    </tr>\n",
       "    <tr>\n",
       "      <th>security</th>\n",
       "      <td>0</td>\n",
       "      <td>0.166667</td>\n",
       "      <td>1.500000</td>\n",
       "    </tr>\n",
       "    <tr>\n",
       "      <th>shopping</th>\n",
       "      <td>0</td>\n",
       "      <td>0.142857</td>\n",
       "      <td>0.000000</td>\n",
       "    </tr>\n",
       "    <tr>\n",
       "      <th>family</th>\n",
       "      <td>0</td>\n",
       "      <td>0.200000</td>\n",
       "      <td>-0.447214</td>\n",
       "    </tr>\n",
       "  </tbody>\n",
       "</table>\n",
       "</div>"
      ],
      "text/plain": [
       "           tf       idf     user2\n",
       "baseball    4  0.250000 -1.024564\n",
       "economics   0  0.166667  1.000000\n",
       "politics    0  0.100000  1.052786\n",
       "Europe     11  0.090909  1.500000\n",
       "Asia        0  0.166667 -0.447214\n",
       "soccer      0  0.166667 -1.024564\n",
       "war         0  0.142857 -0.077350\n",
       "security    0  0.166667  1.500000\n",
       "shopping    0  0.142857  0.000000\n",
       "family      0  0.200000 -0.447214"
      ]
     },
     "execution_count": 103,
     "metadata": {},
     "output_type": "execute_result"
    }
   ],
   "source": [
    "doc6_tfidf = pd.concat([doc_freq * full_df.iloc[5], idf, weighted_profile2], axis=1)\n",
    "doc6_tfidf.columns = ['tf', 'idf', 'user2']\n",
    "doc6_tfidf"
   ]
  },
  {
   "cell_type": "markdown",
   "metadata": {},
   "source": [
    "원래 doc6는 Europe이라는 긍정적이고 Count가 높은 단어 덕분에 긍정적인 예측값을 얻었지만, <br>\n",
    "IDF가 적용됨으로서, Europe의 힘이 0.09에 의해 힘을 잃은것입니다. <br>\n",
    "이러한 작용으로 doc6는 tfidf모델에서는 좋지 않은 예측값을 가지게 되었습니다."
   ]
  }
 ],
 "metadata": {
  "kernelspec": {
   "display_name": "Python 3",
   "language": "python",
   "name": "python3"
  },
  "language_info": {
   "codemirror_mode": {
    "name": "ipython",
    "version": 3
   },
   "file_extension": ".py",
   "mimetype": "text/x-python",
   "name": "python",
   "nbconvert_exporter": "python",
   "pygments_lexer": "ipython3",
   "version": "3.7.1"
  }
 },
 "nbformat": 4,
 "nbformat_minor": 2
}
