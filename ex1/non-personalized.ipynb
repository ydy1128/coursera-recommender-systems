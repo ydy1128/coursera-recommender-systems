{
 "cells": [
  {
   "cell_type": "markdown",
   "metadata": {},
   "source": [
    "# 1. 영화 평점\n",
    "문제: 평균 평점을 계산하고, 최상위 3개의 영화와 점수를 구하시오\n",
    "\n",
    "먼저 Pandas 패키지를 import 하겠습니다."
   ]
  },
  {
   "cell_type": "code",
   "execution_count": 94,
   "metadata": {},
   "outputs": [
    {
     "data": {
      "text/html": [
       "<div>\n",
       "<style scoped>\n",
       "    .dataframe tbody tr th:only-of-type {\n",
       "        vertical-align: middle;\n",
       "    }\n",
       "\n",
       "    .dataframe tbody tr th {\n",
       "        vertical-align: top;\n",
       "    }\n",
       "\n",
       "    .dataframe thead th {\n",
       "        text-align: right;\n",
       "    }\n",
       "</style>\n",
       "<table border=\"1\" class=\"dataframe\">\n",
       "  <thead>\n",
       "    <tr style=\"text-align: right;\">\n",
       "      <th></th>\n",
       "      <th>User</th>\n",
       "      <th>Gender (1 =F, 0=M)</th>\n",
       "      <th>260: Star Wars: Episode IV - A New Hope (1977)</th>\n",
       "      <th>1210: Star Wars: Episode VI - Return of the Jedi (1983)</th>\n",
       "      <th>356: Forrest Gump (1994)</th>\n",
       "      <th>318: Shawshank Redemption, The (1994)</th>\n",
       "      <th>593: Silence of the Lambs, The (1991)</th>\n",
       "      <th>3578: Gladiator (2000)</th>\n",
       "      <th>1: Toy Story (1995)</th>\n",
       "      <th>2028: Saving Private Ryan (1998)</th>\n",
       "      <th>...</th>\n",
       "      <th>2396: Shakespeare in Love (1998)</th>\n",
       "      <th>2916: Total Recall (1990)</th>\n",
       "      <th>780: Independence Day (ID4) (1996)</th>\n",
       "      <th>541: Blade Runner (1982)</th>\n",
       "      <th>1265: Groundhog Day (1993)</th>\n",
       "      <th>2571: Matrix, The (1999)</th>\n",
       "      <th>527: Schindler's List (1993)</th>\n",
       "      <th>2762: Sixth Sense, The (1999)</th>\n",
       "      <th>1198: Raiders of the Lost Ark (1981)</th>\n",
       "      <th>34: Babe (1995)</th>\n",
       "    </tr>\n",
       "  </thead>\n",
       "  <tbody>\n",
       "    <tr>\n",
       "      <th>0</th>\n",
       "      <td>755</td>\n",
       "      <td>0</td>\n",
       "      <td>1.0</td>\n",
       "      <td>5.0</td>\n",
       "      <td>2.0</td>\n",
       "      <td>NaN</td>\n",
       "      <td>4.0</td>\n",
       "      <td>4.0</td>\n",
       "      <td>2.0</td>\n",
       "      <td>2.0</td>\n",
       "      <td>...</td>\n",
       "      <td>2.0</td>\n",
       "      <td>NaN</td>\n",
       "      <td>5.0</td>\n",
       "      <td>2.0</td>\n",
       "      <td>NaN</td>\n",
       "      <td>4.0</td>\n",
       "      <td>2.0</td>\n",
       "      <td>5.0</td>\n",
       "      <td>NaN</td>\n",
       "      <td>NaN</td>\n",
       "    </tr>\n",
       "    <tr>\n",
       "      <th>1</th>\n",
       "      <td>5277</td>\n",
       "      <td>0</td>\n",
       "      <td>5.0</td>\n",
       "      <td>3.0</td>\n",
       "      <td>NaN</td>\n",
       "      <td>2.0</td>\n",
       "      <td>4.0</td>\n",
       "      <td>2.0</td>\n",
       "      <td>1.0</td>\n",
       "      <td>NaN</td>\n",
       "      <td>...</td>\n",
       "      <td>3.0</td>\n",
       "      <td>2.0</td>\n",
       "      <td>2.0</td>\n",
       "      <td>NaN</td>\n",
       "      <td>2.0</td>\n",
       "      <td>NaN</td>\n",
       "      <td>5.0</td>\n",
       "      <td>1.0</td>\n",
       "      <td>3.0</td>\n",
       "      <td>NaN</td>\n",
       "    </tr>\n",
       "    <tr>\n",
       "      <th>2</th>\n",
       "      <td>1577</td>\n",
       "      <td>1</td>\n",
       "      <td>NaN</td>\n",
       "      <td>NaN</td>\n",
       "      <td>NaN</td>\n",
       "      <td>5.0</td>\n",
       "      <td>2.0</td>\n",
       "      <td>NaN</td>\n",
       "      <td>4.0</td>\n",
       "      <td>NaN</td>\n",
       "      <td>...</td>\n",
       "      <td>NaN</td>\n",
       "      <td>1.0</td>\n",
       "      <td>4.0</td>\n",
       "      <td>4.0</td>\n",
       "      <td>1.0</td>\n",
       "      <td>1.0</td>\n",
       "      <td>2.0</td>\n",
       "      <td>3.0</td>\n",
       "      <td>1.0</td>\n",
       "      <td>3.0</td>\n",
       "    </tr>\n",
       "    <tr>\n",
       "      <th>3</th>\n",
       "      <td>4388</td>\n",
       "      <td>0</td>\n",
       "      <td>NaN</td>\n",
       "      <td>3.0</td>\n",
       "      <td>NaN</td>\n",
       "      <td>NaN</td>\n",
       "      <td>NaN</td>\n",
       "      <td>1.0</td>\n",
       "      <td>2.0</td>\n",
       "      <td>3.0</td>\n",
       "      <td>...</td>\n",
       "      <td>NaN</td>\n",
       "      <td>4.0</td>\n",
       "      <td>1.0</td>\n",
       "      <td>3.0</td>\n",
       "      <td>5.0</td>\n",
       "      <td>NaN</td>\n",
       "      <td>5.0</td>\n",
       "      <td>1.0</td>\n",
       "      <td>1.0</td>\n",
       "      <td>2.0</td>\n",
       "    </tr>\n",
       "    <tr>\n",
       "      <th>4</th>\n",
       "      <td>1202</td>\n",
       "      <td>1</td>\n",
       "      <td>4.0</td>\n",
       "      <td>3.0</td>\n",
       "      <td>4.0</td>\n",
       "      <td>1.0</td>\n",
       "      <td>4.0</td>\n",
       "      <td>1.0</td>\n",
       "      <td>NaN</td>\n",
       "      <td>4.0</td>\n",
       "      <td>...</td>\n",
       "      <td>5.0</td>\n",
       "      <td>1.0</td>\n",
       "      <td>NaN</td>\n",
       "      <td>4.0</td>\n",
       "      <td>NaN</td>\n",
       "      <td>3.0</td>\n",
       "      <td>5.0</td>\n",
       "      <td>5.0</td>\n",
       "      <td>NaN</td>\n",
       "      <td>NaN</td>\n",
       "    </tr>\n",
       "  </tbody>\n",
       "</table>\n",
       "<p>5 rows × 22 columns</p>\n",
       "</div>"
      ],
      "text/plain": [
       "   User  Gender (1 =F, 0=M)  260: Star Wars: Episode IV - A New Hope (1977)  \\\n",
       "0   755                   0                                             1.0   \n",
       "1  5277                   0                                             5.0   \n",
       "2  1577                   1                                             NaN   \n",
       "3  4388                   0                                             NaN   \n",
       "4  1202                   1                                             4.0   \n",
       "\n",
       "   1210: Star Wars: Episode VI - Return of the Jedi (1983)  \\\n",
       "0                                                5.0         \n",
       "1                                                3.0         \n",
       "2                                                NaN         \n",
       "3                                                3.0         \n",
       "4                                                3.0         \n",
       "\n",
       "   356: Forrest Gump (1994)  318: Shawshank Redemption, The (1994)  \\\n",
       "0                       2.0                                    NaN   \n",
       "1                       NaN                                    2.0   \n",
       "2                       NaN                                    5.0   \n",
       "3                       NaN                                    NaN   \n",
       "4                       4.0                                    1.0   \n",
       "\n",
       "   593: Silence of the Lambs, The (1991)  3578: Gladiator (2000)  \\\n",
       "0                                    4.0                     4.0   \n",
       "1                                    4.0                     2.0   \n",
       "2                                    2.0                     NaN   \n",
       "3                                    NaN                     1.0   \n",
       "4                                    4.0                     1.0   \n",
       "\n",
       "   1: Toy Story (1995)  2028: Saving Private Ryan (1998)       ...         \\\n",
       "0                  2.0                               2.0       ...          \n",
       "1                  1.0                               NaN       ...          \n",
       "2                  4.0                               NaN       ...          \n",
       "3                  2.0                               3.0       ...          \n",
       "4                  NaN                               4.0       ...          \n",
       "\n",
       "   2396: Shakespeare in Love (1998)  2916: Total Recall (1990)  \\\n",
       "0                               2.0                        NaN   \n",
       "1                               3.0                        2.0   \n",
       "2                               NaN                        1.0   \n",
       "3                               NaN                        4.0   \n",
       "4                               5.0                        1.0   \n",
       "\n",
       "   780: Independence Day (ID4) (1996)  541: Blade Runner (1982)  \\\n",
       "0                                 5.0                       2.0   \n",
       "1                                 2.0                       NaN   \n",
       "2                                 4.0                       4.0   \n",
       "3                                 1.0                       3.0   \n",
       "4                                 NaN                       4.0   \n",
       "\n",
       "   1265: Groundhog Day (1993)  2571: Matrix, The (1999)  \\\n",
       "0                         NaN                       4.0   \n",
       "1                         2.0                       NaN   \n",
       "2                         1.0                       1.0   \n",
       "3                         5.0                       NaN   \n",
       "4                         NaN                       3.0   \n",
       "\n",
       "   527: Schindler's List (1993)  2762: Sixth Sense, The (1999)  \\\n",
       "0                           2.0                            5.0   \n",
       "1                           5.0                            1.0   \n",
       "2                           2.0                            3.0   \n",
       "3                           5.0                            1.0   \n",
       "4                           5.0                            5.0   \n",
       "\n",
       "   1198: Raiders of the Lost Ark (1981)  34: Babe (1995)  \n",
       "0                                   NaN              NaN  \n",
       "1                                   3.0              NaN  \n",
       "2                                   1.0              3.0  \n",
       "3                                   1.0              2.0  \n",
       "4                                   NaN              NaN  \n",
       "\n",
       "[5 rows x 22 columns]"
      ]
     },
     "execution_count": 94,
     "metadata": {},
     "output_type": "execute_result"
    }
   ],
   "source": [
    "import pandas as pd\n",
    "\n",
    "movies_df = pd.read_csv('./HW1-data.csv')\n",
    "movies_df.head()"
   ]
  },
  {
   "cell_type": "markdown",
   "metadata": {},
   "source": [
    "가장 왼쪽으 두 컬럼은 사용자 ID와 성별 값이니 Drop하고,<br>\n",
    "평균값을 구한 뒤 상위 3개만 보여주겠습니다."
   ]
  },
  {
   "cell_type": "code",
   "execution_count": 32,
   "metadata": {},
   "outputs": [
    {
     "data": {
      "text/plain": [
       "318: Shawshank Redemption, The (1994)             3.600000\n",
       "260: Star Wars: Episode IV - A New Hope (1977)    3.266667\n",
       "541: Blade Runner (1982)                          3.222222\n",
       "dtype: float64"
      ]
     },
     "execution_count": 32,
     "metadata": {},
     "output_type": "execute_result"
    }
   ],
   "source": [
    "movies_df_scores = movies_df.drop(movies_df.columns[:2], axis=1)\n",
    "movies_df_scores.mean().sort_values(ascending=False)[:3]"
   ]
  },
  {
   "cell_type": "markdown",
   "metadata": {},
   "source": [
    "결과를 보면, 평점이 가장 좋은 영화들은:\n",
    "1. 쇼생크탈출 (평균평점 3.60)\n",
    "2. 스타워즈 4 (평균평점 3.27)\n",
    "3. 블레이드러너 (평균평점 3.22)\n",
    "\n",
    "라는 것을 알 수 있습니다."
   ]
  },
  {
   "cell_type": "markdown",
   "metadata": {},
   "source": [
    "# 2. 평점 카운트 (인기도)\n",
    "문제: 영화 중 평점이 매겨진것을 카운트 하고, 가장 많이 매겨진 영화 3개를 찾으시오.\n",
    "\n",
    "위에서 만들어놓은 movies_df_scores를 이용하면 간단합니다.\n",
    "count 메소드를 사용해 NaN이 아닌 모든 셀을 카운트 합니다."
   ]
  },
  {
   "cell_type": "code",
   "execution_count": 99,
   "metadata": {},
   "outputs": [
    {
     "data": {
      "text/plain": [
       "1: Toy Story (1995)                               17\n",
       "593: Silence of the Lambs, The (1991)             16\n",
       "260: Star Wars: Episode IV - A New Hope (1977)    15\n",
       "dtype: int64"
      ]
     },
     "execution_count": 99,
     "metadata": {},
     "output_type": "execute_result"
    }
   ],
   "source": [
    "movies_df_scores.count().sort_values(ascending=False)[:3]"
   ]
  },
  {
   "cell_type": "markdown",
   "metadata": {},
   "source": [
    "결과를 보면, 인기가 가장 좋은 영화들은:\n",
    "1. 토이스토리 (평가 17개)\n",
    "2. 양들의침묵 (평가 16개)\n",
    "3. 스타워즈4 (평가 15개)\n",
    "\n",
    "라는 것을 알 수 있습니다."
   ]
  },
  {
   "cell_type": "markdown",
   "metadata": {},
   "source": [
    "# 3. 4+평점의 퍼센테지\n",
    "문제: 평점이 4+가 가장 많은 영화를 3개 구하시오.\n",
    "\n",
    "강의를 보시면, 4+평점을 좋은 평점으로 사용한 적이 있다는 것을 아실 수 있습니다.<br>\n",
    "먼저 평점이 4+인 셀들은 Boolean Indexing으로 쉽게 구할 수 있습니다."
   ]
  },
  {
   "cell_type": "code",
   "execution_count": 42,
   "metadata": {},
   "outputs": [
    {
     "data": {
      "text/html": [
       "<div>\n",
       "<style scoped>\n",
       "    .dataframe tbody tr th:only-of-type {\n",
       "        vertical-align: middle;\n",
       "    }\n",
       "\n",
       "    .dataframe tbody tr th {\n",
       "        vertical-align: top;\n",
       "    }\n",
       "\n",
       "    .dataframe thead th {\n",
       "        text-align: right;\n",
       "    }\n",
       "</style>\n",
       "<table border=\"1\" class=\"dataframe\">\n",
       "  <thead>\n",
       "    <tr style=\"text-align: right;\">\n",
       "      <th></th>\n",
       "      <th>260: Star Wars: Episode IV - A New Hope (1977)</th>\n",
       "      <th>1210: Star Wars: Episode VI - Return of the Jedi (1983)</th>\n",
       "      <th>356: Forrest Gump (1994)</th>\n",
       "      <th>318: Shawshank Redemption, The (1994)</th>\n",
       "      <th>593: Silence of the Lambs, The (1991)</th>\n",
       "      <th>3578: Gladiator (2000)</th>\n",
       "      <th>1: Toy Story (1995)</th>\n",
       "      <th>2028: Saving Private Ryan (1998)</th>\n",
       "      <th>296: Pulp Fiction (1994)</th>\n",
       "      <th>1259: Stand by Me (1986)</th>\n",
       "      <th>2396: Shakespeare in Love (1998)</th>\n",
       "      <th>2916: Total Recall (1990)</th>\n",
       "      <th>780: Independence Day (ID4) (1996)</th>\n",
       "      <th>541: Blade Runner (1982)</th>\n",
       "      <th>1265: Groundhog Day (1993)</th>\n",
       "      <th>2571: Matrix, The (1999)</th>\n",
       "      <th>527: Schindler's List (1993)</th>\n",
       "      <th>2762: Sixth Sense, The (1999)</th>\n",
       "      <th>1198: Raiders of the Lost Ark (1981)</th>\n",
       "      <th>34: Babe (1995)</th>\n",
       "    </tr>\n",
       "  </thead>\n",
       "  <tbody>\n",
       "    <tr>\n",
       "      <th>0</th>\n",
       "      <td>NaN</td>\n",
       "      <td>5.0</td>\n",
       "      <td>NaN</td>\n",
       "      <td>NaN</td>\n",
       "      <td>4.0</td>\n",
       "      <td>4.0</td>\n",
       "      <td>NaN</td>\n",
       "      <td>NaN</td>\n",
       "      <td>NaN</td>\n",
       "      <td>NaN</td>\n",
       "      <td>NaN</td>\n",
       "      <td>NaN</td>\n",
       "      <td>5.0</td>\n",
       "      <td>NaN</td>\n",
       "      <td>NaN</td>\n",
       "      <td>4.0</td>\n",
       "      <td>NaN</td>\n",
       "      <td>5.0</td>\n",
       "      <td>NaN</td>\n",
       "      <td>NaN</td>\n",
       "    </tr>\n",
       "    <tr>\n",
       "      <th>1</th>\n",
       "      <td>5.0</td>\n",
       "      <td>NaN</td>\n",
       "      <td>NaN</td>\n",
       "      <td>NaN</td>\n",
       "      <td>4.0</td>\n",
       "      <td>NaN</td>\n",
       "      <td>NaN</td>\n",
       "      <td>NaN</td>\n",
       "      <td>NaN</td>\n",
       "      <td>4.0</td>\n",
       "      <td>NaN</td>\n",
       "      <td>NaN</td>\n",
       "      <td>NaN</td>\n",
       "      <td>NaN</td>\n",
       "      <td>NaN</td>\n",
       "      <td>NaN</td>\n",
       "      <td>5.0</td>\n",
       "      <td>NaN</td>\n",
       "      <td>NaN</td>\n",
       "      <td>NaN</td>\n",
       "    </tr>\n",
       "    <tr>\n",
       "      <th>2</th>\n",
       "      <td>NaN</td>\n",
       "      <td>NaN</td>\n",
       "      <td>NaN</td>\n",
       "      <td>5.0</td>\n",
       "      <td>NaN</td>\n",
       "      <td>NaN</td>\n",
       "      <td>4.0</td>\n",
       "      <td>NaN</td>\n",
       "      <td>NaN</td>\n",
       "      <td>NaN</td>\n",
       "      <td>NaN</td>\n",
       "      <td>NaN</td>\n",
       "      <td>4.0</td>\n",
       "      <td>4.0</td>\n",
       "      <td>NaN</td>\n",
       "      <td>NaN</td>\n",
       "      <td>NaN</td>\n",
       "      <td>NaN</td>\n",
       "      <td>NaN</td>\n",
       "      <td>NaN</td>\n",
       "    </tr>\n",
       "    <tr>\n",
       "      <th>3</th>\n",
       "      <td>NaN</td>\n",
       "      <td>NaN</td>\n",
       "      <td>NaN</td>\n",
       "      <td>NaN</td>\n",
       "      <td>NaN</td>\n",
       "      <td>NaN</td>\n",
       "      <td>NaN</td>\n",
       "      <td>NaN</td>\n",
       "      <td>4.0</td>\n",
       "      <td>NaN</td>\n",
       "      <td>NaN</td>\n",
       "      <td>4.0</td>\n",
       "      <td>NaN</td>\n",
       "      <td>NaN</td>\n",
       "      <td>5.0</td>\n",
       "      <td>NaN</td>\n",
       "      <td>5.0</td>\n",
       "      <td>NaN</td>\n",
       "      <td>NaN</td>\n",
       "      <td>NaN</td>\n",
       "    </tr>\n",
       "    <tr>\n",
       "      <th>4</th>\n",
       "      <td>4.0</td>\n",
       "      <td>NaN</td>\n",
       "      <td>4.0</td>\n",
       "      <td>NaN</td>\n",
       "      <td>4.0</td>\n",
       "      <td>NaN</td>\n",
       "      <td>NaN</td>\n",
       "      <td>4.0</td>\n",
       "      <td>NaN</td>\n",
       "      <td>NaN</td>\n",
       "      <td>5.0</td>\n",
       "      <td>NaN</td>\n",
       "      <td>NaN</td>\n",
       "      <td>4.0</td>\n",
       "      <td>NaN</td>\n",
       "      <td>NaN</td>\n",
       "      <td>5.0</td>\n",
       "      <td>5.0</td>\n",
       "      <td>NaN</td>\n",
       "      <td>NaN</td>\n",
       "    </tr>\n",
       "  </tbody>\n",
       "</table>\n",
       "</div>"
      ],
      "text/plain": [
       "   260: Star Wars: Episode IV - A New Hope (1977)  \\\n",
       "0                                             NaN   \n",
       "1                                             5.0   \n",
       "2                                             NaN   \n",
       "3                                             NaN   \n",
       "4                                             4.0   \n",
       "\n",
       "   1210: Star Wars: Episode VI - Return of the Jedi (1983)  \\\n",
       "0                                                5.0         \n",
       "1                                                NaN         \n",
       "2                                                NaN         \n",
       "3                                                NaN         \n",
       "4                                                NaN         \n",
       "\n",
       "   356: Forrest Gump (1994)  318: Shawshank Redemption, The (1994)  \\\n",
       "0                       NaN                                    NaN   \n",
       "1                       NaN                                    NaN   \n",
       "2                       NaN                                    5.0   \n",
       "3                       NaN                                    NaN   \n",
       "4                       4.0                                    NaN   \n",
       "\n",
       "   593: Silence of the Lambs, The (1991)  3578: Gladiator (2000)  \\\n",
       "0                                    4.0                     4.0   \n",
       "1                                    4.0                     NaN   \n",
       "2                                    NaN                     NaN   \n",
       "3                                    NaN                     NaN   \n",
       "4                                    4.0                     NaN   \n",
       "\n",
       "   1: Toy Story (1995)  2028: Saving Private Ryan (1998)  \\\n",
       "0                  NaN                               NaN   \n",
       "1                  NaN                               NaN   \n",
       "2                  4.0                               NaN   \n",
       "3                  NaN                               NaN   \n",
       "4                  NaN                               4.0   \n",
       "\n",
       "   296: Pulp Fiction (1994)  1259: Stand by Me (1986)  \\\n",
       "0                       NaN                       NaN   \n",
       "1                       NaN                       4.0   \n",
       "2                       NaN                       NaN   \n",
       "3                       4.0                       NaN   \n",
       "4                       NaN                       NaN   \n",
       "\n",
       "   2396: Shakespeare in Love (1998)  2916: Total Recall (1990)  \\\n",
       "0                               NaN                        NaN   \n",
       "1                               NaN                        NaN   \n",
       "2                               NaN                        NaN   \n",
       "3                               NaN                        4.0   \n",
       "4                               5.0                        NaN   \n",
       "\n",
       "   780: Independence Day (ID4) (1996)  541: Blade Runner (1982)  \\\n",
       "0                                 5.0                       NaN   \n",
       "1                                 NaN                       NaN   \n",
       "2                                 4.0                       4.0   \n",
       "3                                 NaN                       NaN   \n",
       "4                                 NaN                       4.0   \n",
       "\n",
       "   1265: Groundhog Day (1993)  2571: Matrix, The (1999)  \\\n",
       "0                         NaN                       4.0   \n",
       "1                         NaN                       NaN   \n",
       "2                         NaN                       NaN   \n",
       "3                         5.0                       NaN   \n",
       "4                         NaN                       NaN   \n",
       "\n",
       "   527: Schindler's List (1993)  2762: Sixth Sense, The (1999)  \\\n",
       "0                           NaN                            5.0   \n",
       "1                           5.0                            NaN   \n",
       "2                           NaN                            NaN   \n",
       "3                           5.0                            NaN   \n",
       "4                           5.0                            5.0   \n",
       "\n",
       "   1198: Raiders of the Lost Ark (1981)  34: Babe (1995)  \n",
       "0                                   NaN              NaN  \n",
       "1                                   NaN              NaN  \n",
       "2                                   NaN              NaN  \n",
       "3                                   NaN              NaN  \n",
       "4                                   NaN              NaN  "
      ]
     },
     "execution_count": 42,
     "metadata": {},
     "output_type": "execute_result"
    }
   ],
   "source": [
    "movies_df_scores[movies_df_scores >= 4.0].head()"
   ]
  },
  {
   "cell_type": "markdown",
   "metadata": {},
   "source": [
    "이것을 이용해 위의 문제들과 같이 정답을구해보겠습니다."
   ]
  },
  {
   "cell_type": "code",
   "execution_count": 46,
   "metadata": {},
   "outputs": [
    {
     "data": {
      "text/plain": [
       "260: Star Wars: Episode IV - A New Hope (1977)    8\n",
       "318: Shawshank Redemption, The (1994)             7\n",
       "593: Silence of the Lambs, The (1991)             7\n",
       "dtype: int64"
      ]
     },
     "execution_count": 46,
     "metadata": {},
     "output_type": "execute_result"
    }
   ],
   "source": [
    "movies_df_scores[movies_df_scores >= 4.0].count().sort_values(ascending=False)[:3]"
   ]
  },
  {
   "cell_type": "markdown",
   "metadata": {},
   "source": [
    "결과를 보면, 4+평점이 가장 많은 영화들은:\n",
    "1. 스타워즈4 (8개)\n",
    "2. 쇼생크탈출 (7개)\n",
    "3. 양들의침묵 (7개)\n",
    "\n",
    "라는 것을 알 수 있습니다. <br>\n",
    "(sort_values 뒤 코드를 제외하고 실행시키시면, 8은 한개 7은 두개가 나옵니다.)"
   ]
  },
  {
   "cell_type": "markdown",
   "metadata": {},
   "source": [
    "# 4. 토이스토리와 다른 영화와의 관계\n",
    "문제: 토이스토리를 본 사람들이 어떤 영화를 봤는지 알기 위해, <br>\n",
    "(x+y)/x 수식을 이용해 토이스토리와 다른 영화들의 공존관계를 구하시오.\n",
    "\n",
    "이전 문제들보다는 조금 복잡한 문제입니다. <br>\n",
    "위의 수식은 \"(선택된 영화 & 다른영화) / 선택된영화\" 수식으로 다시 표현할 수 있습니다.<br>\n",
    "먼저 영화별 확률을 구하기 위해 새로운 Series에 카운트값을 저장하도록 하겠습니다.<br>\n",
    "그리고 토이스토리를 drop해주겠습니다."
   ]
  },
  {
   "cell_type": "code",
   "execution_count": 78,
   "metadata": {},
   "outputs": [
    {
     "data": {
      "text/plain": [
       "260: Star Wars: Episode IV - A New Hope (1977)             15\n",
       "1210: Star Wars: Episode VI - Return of the Jedi (1983)    14\n",
       "356: Forrest Gump (1994)                                   10\n",
       "318: Shawshank Redemption, The (1994)                      10\n",
       "593: Silence of the Lambs, The (1991)                      16\n",
       "dtype: int64"
      ]
     },
     "execution_count": 78,
     "metadata": {},
     "output_type": "execute_result"
    }
   ],
   "source": [
    "rating_counts = movies_df_scores.count().drop('1: Toy Story (1995)')\n",
    "rating_counts.head()"
   ]
  },
  {
   "cell_type": "markdown",
   "metadata": {},
   "source": [
    "이제 여기에 위 수식을 적용해보도록 하겠습니다. <br>\n",
    "토이스토리의 카운트를 x값으로 놓고 rating값들에 적용한 결과입니다."
   ]
  },
  {
   "cell_type": "code",
   "execution_count": 79,
   "metadata": {},
   "outputs": [
    {
     "data": {
      "text/plain": [
       "260: Star Wars: Episode IV - A New Hope (1977)             2.133333\n",
       "1210: Star Wars: Episode VI - Return of the Jedi (1983)    2.214286\n",
       "356: Forrest Gump (1994)                                   2.700000\n",
       "318: Shawshank Redemption, The (1994)                      2.700000\n",
       "593: Silence of the Lambs, The (1991)                      2.062500\n",
       "dtype: float64"
      ]
     },
     "execution_count": 79,
     "metadata": {},
     "output_type": "execute_result"
    }
   ],
   "source": [
    "x = movies_df_scores['1: Toy Story (1995)'].count()\n",
    "rating_counts = rating_counts.apply(lambda y: (x + y) / y)\n",
    "rating_counts.head()"
   ]
  },
  {
   "cell_type": "markdown",
   "metadata": {},
   "source": [
    "마지막으로 이를 정렬한 결과중 상위 3개를 가져오면 됩니다."
   ]
  },
  {
   "cell_type": "code",
   "execution_count": 57,
   "metadata": {},
   "outputs": [
    {
     "data": {
      "text/plain": [
       "593: Silence of the Lambs, The (1991)                      9.242424\n",
       "260: Star Wars: Episode IV - A New Hope (1977)             8.968750\n",
       "1210: Star Wars: Episode VI - Return of the Jedi (1983)    8.677419\n",
       "dtype: float64"
      ]
     },
     "execution_count": 57,
     "metadata": {},
     "output_type": "execute_result"
    }
   ],
   "source": [
    "rating_counts.sort_values(ascending=False)[:3]"
   ]
  },
  {
   "cell_type": "markdown",
   "metadata": {},
   "source": [
    "결과를 보면, 토이스토리를 봤던 사람들이 본 다른 영화들 중 가장 많이 본것은:\n",
    "1. 양들의침묵\n",
    "2. 스타워즈 4\n",
    "3. 스타워즈 6\n",
    "\n",
    "인것을 알 수 있습니다."
   ]
  },
  {
   "cell_type": "markdown",
   "metadata": {},
   "source": [
    "# 5 토이스토리와의 연관성\n",
    "문제: 토이스토리와 연관성이 있는 영화들을 찾아보시오.\n",
    "\n",
    "이번에는 연관성 문제입니다.<br>\n",
    "먼저 토이스토리와 다른 영화들의 피어슨 연관도를 구해보겠습니다.<br>\n",
    "Pandas에서 피어슨 연관도는 corr 메소드를 이용해 쉽게 구할 수 있습니다.<br>\n",
    "연관도에서 토이스토리 줄만 뽑은 결과입니다."
   ]
  },
  {
   "cell_type": "code",
   "execution_count": 80,
   "metadata": {},
   "outputs": [
    {
     "data": {
      "text/plain": [
       "260: Star Wars: Episode IV - A New Hope (1977)            -0.119005\n",
       "1210: Star Wars: Episode VI - Return of the Jedi (1983)   -0.314504\n",
       "356: Forrest Gump (1994)                                   0.522913\n",
       "318: Shawshank Redemption, The (1994)                      0.888523\n",
       "593: Silence of the Lambs, The (1991)                     -0.568258\n",
       "Name: 1: Toy Story (1995), dtype: float64"
      ]
     },
     "execution_count": 80,
     "metadata": {},
     "output_type": "execute_result"
    }
   ],
   "source": [
    "corr = movies_df_scores.corr('pearson')['1: Toy Story (1995)']\n",
    "corr.head()"
   ]
  },
  {
   "cell_type": "markdown",
   "metadata": {},
   "source": [
    "상위 3개의 영화를 뽑기 위해, 토이스토리를 drop하고, <br>\n",
    "나머지 값들중에 최상위 3개를 뽑아내겠습니다."
   ]
  },
  {
   "cell_type": "code",
   "execution_count": 81,
   "metadata": {},
   "outputs": [
    {
     "data": {
      "text/plain": [
       "318: Shawshank Redemption, The (1994)    0.888523\n",
       "34: Babe (1995)                          0.811107\n",
       "296: Pulp Fiction (1994)                 0.709842\n",
       "Name: 1: Toy Story (1995), dtype: float64"
      ]
     },
     "execution_count": 81,
     "metadata": {},
     "output_type": "execute_result"
    }
   ],
   "source": [
    "corr.drop('1: Toy Story (1995)').sort_values(ascending=False)[:3]"
   ]
  },
  {
   "cell_type": "markdown",
   "metadata": {},
   "source": [
    "결과를 보면, 토이스토리와 평점에서 연관성이 있는 영화들은:\n",
    "1. 쇼생크달출\n",
    "2. 꼬마돼지 베이브\n",
    "3. 펄프 픽션\n",
    "\n",
    "인것을 알 수 있습니다."
   ]
  },
  {
   "cell_type": "markdown",
   "metadata": {},
   "source": [
    "# 6 성별 평균 평점\n",
    "문제: 모든 영화에 대한 성별간의 평점을 구하시오. <br> \n",
    "문제: 각 성별간 상위 3개의 영화를 구하시오. <br>\n",
    "문제: 성별간 평점 차이가 큰 영화를 각각 구하시오. <br>\n",
    "문제: 성별의 모든 평점을 더한값의 차이를 구하시오 (여성평점 - 남성평점). <br>\n",
    "\n",
    "이번 문제는 성별간의 평점을 구하고, 비교하는 문제입니다. <br>\n",
    "Pandas에서 제공하는 groupby를 이용해 풀어보겠습니다."
   ]
  },
  {
   "cell_type": "code",
   "execution_count": 100,
   "metadata": {},
   "outputs": [
    {
     "data": {
      "text/html": [
       "<div>\n",
       "<style scoped>\n",
       "    .dataframe tbody tr th:only-of-type {\n",
       "        vertical-align: middle;\n",
       "    }\n",
       "\n",
       "    .dataframe tbody tr th {\n",
       "        vertical-align: top;\n",
       "    }\n",
       "\n",
       "    .dataframe thead th {\n",
       "        text-align: right;\n",
       "    }\n",
       "</style>\n",
       "<table border=\"1\" class=\"dataframe\">\n",
       "  <thead>\n",
       "    <tr style=\"text-align: right;\">\n",
       "      <th></th>\n",
       "      <th>260: Star Wars: Episode IV - A New Hope (1977)</th>\n",
       "      <th>1210: Star Wars: Episode VI - Return of the Jedi (1983)</th>\n",
       "      <th>356: Forrest Gump (1994)</th>\n",
       "      <th>318: Shawshank Redemption, The (1994)</th>\n",
       "      <th>593: Silence of the Lambs, The (1991)</th>\n",
       "      <th>3578: Gladiator (2000)</th>\n",
       "      <th>1: Toy Story (1995)</th>\n",
       "      <th>2028: Saving Private Ryan (1998)</th>\n",
       "      <th>296: Pulp Fiction (1994)</th>\n",
       "      <th>1259: Stand by Me (1986)</th>\n",
       "      <th>2396: Shakespeare in Love (1998)</th>\n",
       "      <th>2916: Total Recall (1990)</th>\n",
       "      <th>780: Independence Day (ID4) (1996)</th>\n",
       "      <th>541: Blade Runner (1982)</th>\n",
       "      <th>1265: Groundhog Day (1993)</th>\n",
       "      <th>2571: Matrix, The (1999)</th>\n",
       "      <th>527: Schindler's List (1993)</th>\n",
       "      <th>2762: Sixth Sense, The (1999)</th>\n",
       "      <th>1198: Raiders of the Lost Ark (1981)</th>\n",
       "      <th>34: Babe (1995)</th>\n",
       "    </tr>\n",
       "    <tr>\n",
       "      <th>Gender (1 =F, 0=M)</th>\n",
       "      <th></th>\n",
       "      <th></th>\n",
       "      <th></th>\n",
       "      <th></th>\n",
       "      <th></th>\n",
       "      <th></th>\n",
       "      <th></th>\n",
       "      <th></th>\n",
       "      <th></th>\n",
       "      <th></th>\n",
       "      <th></th>\n",
       "      <th></th>\n",
       "      <th></th>\n",
       "      <th></th>\n",
       "      <th></th>\n",
       "      <th></th>\n",
       "      <th></th>\n",
       "      <th></th>\n",
       "      <th></th>\n",
       "      <th></th>\n",
       "    </tr>\n",
       "  </thead>\n",
       "  <tbody>\n",
       "    <tr>\n",
       "      <th>0</th>\n",
       "      <td>3.125000</td>\n",
       "      <td>3.0</td>\n",
       "      <td>2.25</td>\n",
       "      <td>3.4</td>\n",
       "      <td>3.333333</td>\n",
       "      <td>2.833333</td>\n",
       "      <td>2.300000</td>\n",
       "      <td>3.142857</td>\n",
       "      <td>2.625</td>\n",
       "      <td>3.000000</td>\n",
       "      <td>2.142857</td>\n",
       "      <td>2.200000</td>\n",
       "      <td>2.857143</td>\n",
       "      <td>3.0</td>\n",
       "      <td>3.500000</td>\n",
       "      <td>3.142857</td>\n",
       "      <td>3.5</td>\n",
       "      <td>2.666667</td>\n",
       "      <td>3.666667</td>\n",
       "      <td>2.000000</td>\n",
       "    </tr>\n",
       "    <tr>\n",
       "      <th>1</th>\n",
       "      <td>3.428571</td>\n",
       "      <td>3.0</td>\n",
       "      <td>3.00</td>\n",
       "      <td>3.8</td>\n",
       "      <td>2.714286</td>\n",
       "      <td>3.000000</td>\n",
       "      <td>3.571429</td>\n",
       "      <td>2.750000</td>\n",
       "      <td>4.000</td>\n",
       "      <td>2.428571</td>\n",
       "      <td>4.250000</td>\n",
       "      <td>1.714286</td>\n",
       "      <td>2.666667</td>\n",
       "      <td>3.5</td>\n",
       "      <td>2.833333</td>\n",
       "      <td>2.400000</td>\n",
       "      <td>2.5</td>\n",
       "      <td>3.000000</td>\n",
       "      <td>2.000000</td>\n",
       "      <td>3.428571</td>\n",
       "    </tr>\n",
       "  </tbody>\n",
       "</table>\n",
       "</div>"
      ],
      "text/plain": [
       "                    260: Star Wars: Episode IV - A New Hope (1977)  \\\n",
       "Gender (1 =F, 0=M)                                                   \n",
       "0                                                         3.125000   \n",
       "1                                                         3.428571   \n",
       "\n",
       "                    1210: Star Wars: Episode VI - Return of the Jedi (1983)  \\\n",
       "Gender (1 =F, 0=M)                                                            \n",
       "0                                                                 3.0         \n",
       "1                                                                 3.0         \n",
       "\n",
       "                    356: Forrest Gump (1994)  \\\n",
       "Gender (1 =F, 0=M)                             \n",
       "0                                       2.25   \n",
       "1                                       3.00   \n",
       "\n",
       "                    318: Shawshank Redemption, The (1994)  \\\n",
       "Gender (1 =F, 0=M)                                          \n",
       "0                                                     3.4   \n",
       "1                                                     3.8   \n",
       "\n",
       "                    593: Silence of the Lambs, The (1991)  \\\n",
       "Gender (1 =F, 0=M)                                          \n",
       "0                                                3.333333   \n",
       "1                                                2.714286   \n",
       "\n",
       "                    3578: Gladiator (2000)  1: Toy Story (1995)  \\\n",
       "Gender (1 =F, 0=M)                                                \n",
       "0                                 2.833333             2.300000   \n",
       "1                                 3.000000             3.571429   \n",
       "\n",
       "                    2028: Saving Private Ryan (1998)  \\\n",
       "Gender (1 =F, 0=M)                                     \n",
       "0                                           3.142857   \n",
       "1                                           2.750000   \n",
       "\n",
       "                    296: Pulp Fiction (1994)  1259: Stand by Me (1986)  \\\n",
       "Gender (1 =F, 0=M)                                                       \n",
       "0                                      2.625                  3.000000   \n",
       "1                                      4.000                  2.428571   \n",
       "\n",
       "                    2396: Shakespeare in Love (1998)  \\\n",
       "Gender (1 =F, 0=M)                                     \n",
       "0                                           2.142857   \n",
       "1                                           4.250000   \n",
       "\n",
       "                    2916: Total Recall (1990)  \\\n",
       "Gender (1 =F, 0=M)                              \n",
       "0                                    2.200000   \n",
       "1                                    1.714286   \n",
       "\n",
       "                    780: Independence Day (ID4) (1996)  \\\n",
       "Gender (1 =F, 0=M)                                       \n",
       "0                                             2.857143   \n",
       "1                                             2.666667   \n",
       "\n",
       "                    541: Blade Runner (1982)  1265: Groundhog Day (1993)  \\\n",
       "Gender (1 =F, 0=M)                                                         \n",
       "0                                        3.0                    3.500000   \n",
       "1                                        3.5                    2.833333   \n",
       "\n",
       "                    2571: Matrix, The (1999)  527: Schindler's List (1993)  \\\n",
       "Gender (1 =F, 0=M)                                                           \n",
       "0                                   3.142857                           3.5   \n",
       "1                                   2.400000                           2.5   \n",
       "\n",
       "                    2762: Sixth Sense, The (1999)  \\\n",
       "Gender (1 =F, 0=M)                                  \n",
       "0                                        2.666667   \n",
       "1                                        3.000000   \n",
       "\n",
       "                    1198: Raiders of the Lost Ark (1981)  34: Babe (1995)  \n",
       "Gender (1 =F, 0=M)                                                         \n",
       "0                                               3.666667         2.000000  \n",
       "1                                               2.000000         3.428571  "
      ]
     },
     "execution_count": 100,
     "metadata": {},
     "output_type": "execute_result"
    }
   ],
   "source": [
    "grouped_gender = movies_df.drop('User', axis=1).groupby('Gender (1 =F, 0=M)')\n",
    "grouped_means = grouped_gender.mean()\n",
    "grouped_means"
   ]
  },
  {
   "cell_type": "markdown",
   "metadata": {},
   "source": [
    "이제 각 성별의 평점 중 상위 3개의 영화를 뽑아보겠습니다."
   ]
  },
  {
   "cell_type": "code",
   "execution_count": 128,
   "metadata": {},
   "outputs": [
    {
     "name": "stdout",
     "output_type": "stream",
     "text": [
      "Male Top 3: \n",
      " 1198: Raiders of the Lost Ark (1981)    3.666667\n",
      "527: Schindler's List (1993)            3.500000\n",
      "1265: Groundhog Day (1993)              3.500000\n",
      "Name: 0, dtype: float64\n",
      "\n",
      "Female Top 3: \n",
      " 2396: Shakespeare in Love (1998)         4.25\n",
      "296: Pulp Fiction (1994)                 4.00\n",
      "318: Shawshank Redemption, The (1994)    3.80\n",
      "Name: 1, dtype: float64\n"
     ]
    }
   ],
   "source": [
    "male_means = grouped_means.loc[0].sort_values(ascending=False)\n",
    "female_means = grouped_means.loc[1].sort_values(ascending=False)\n",
    "\n",
    "print('Male Top 3: \\n', male_means[:3])\n",
    "print()\n",
    "print('Female Top 3: \\n', female_means[:3])"
   ]
  },
  {
   "cell_type": "markdown",
   "metadata": {},
   "source": [
    "결과를 보면, 남성들이 가장 선호하는 영화들은:\n",
    "1. 레이더스\n",
    "2. 쉰들러 리스트\n",
    "3. 사랑의 블랙홀 <br>\n",
    "\n",
    "여성들이 가장 선호하는 영화들은:\n",
    "1. 셰익스피어 인 러브\n",
    "2. 펄프 픽션\n",
    "3. 쇼생크 탈출\n",
    "\n",
    "인것을 알 수 있습니다."
   ]
  },
  {
   "cell_type": "markdown",
   "metadata": {},
   "source": [
    "이번에는 차이가 가장 큰 영화들을 뽑아보겠습니다. <br>\n",
    "차이가 크다는 이야기는 한 영화를 특별히 남성/여성이 더 좋아했다는 의미입니다. <br>"
   ]
  },
  {
   "cell_type": "code",
   "execution_count": 130,
   "metadata": {},
   "outputs": [
    {
     "name": "stdout",
     "output_type": "stream",
     "text": [
      "top by males:\n",
      "1198: Raiders of the Lost Ark (1981)    1.666667\n",
      "dtype: float64,\n",
      "\n",
      "top by females:\n",
      "2396: Shakespeare in Love (1998)    2.107143\n",
      "dtype: float64\n"
     ]
    }
   ],
   "source": [
    "top_males = (male_means -  female_means).sort_values(ascending=False)[:1]\n",
    "top_females = (female_means -  male_means).sort_values(ascending=False)[:1]\n",
    "print('top by males:\\n{},\\n\\ntop by females:\\n{}'.format(top_males, top_females))"
   ]
  },
  {
   "cell_type": "markdown",
   "metadata": {},
   "source": [
    "남성들이 더 선호하는 영화는 \"레이더스\"이고, <br>\n",
    "여성들이 더 선호하는 영화는 \"셰익스피어 인 러브\" 인 것 같습니다."
   ]
  },
  {
   "cell_type": "markdown",
   "metadata": {},
   "source": [
    "마지막으로 평점들의 합의 차이를 구해보겠습니다. <br>\n",
    "이것을 구하는 이유는, 어떤 성별이 대체적으로 평점을 더 후하게 주는지 알아보기 위함인 것 같습니다."
   ]
  },
  {
   "cell_type": "code",
   "execution_count": 134,
   "metadata": {},
   "outputs": [
    {
     "data": {
      "text/plain": [
       "2.299999999999997"
      ]
     },
     "execution_count": 134,
     "metadata": {},
     "output_type": "execute_result"
    }
   ],
   "source": [
    "female_means.sum() - male_means.sum()"
   ]
  },
  {
   "cell_type": "markdown",
   "metadata": {},
   "source": [
    "결과는 여성이 더 평점을 후하게 주는 경향이 있는 것 같습니다."
   ]
  },
  {
   "cell_type": "markdown",
   "metadata": {},
   "source": [
    "# 7 성별 4+평점\n",
    "문제: 각 성별간 4+평점의 차이를 구하시오.\n",
    "\n",
    "마지막은 위에서 사용했던 grouping을 이용해 간단하게 구할 수 있습니다. <br>\n",
    "Boolean Indexing을 사용해 4+평점을 구하고 모두 더한 뒤 그 값을 빼주겠습니다."
   ]
  },
  {
   "cell_type": "code",
   "execution_count": 133,
   "metadata": {},
   "outputs": [
    {
     "data": {
      "text/plain": [
       "8.25"
      ]
     },
     "execution_count": 133,
     "metadata": {},
     "output_type": "execute_result"
    }
   ],
   "source": [
    "female_means[female_means >= 4.0].sum() - male_means[male_means >= 4.0].sum()"
   ]
  },
  {
   "cell_type": "markdown",
   "metadata": {},
   "source": [
    "결과적으로 우리가 사용한 데이터셋에서는 여성들이 4+평점을 더 많이 준것으로 보입니다."
   ]
  }
 ],
 "metadata": {
  "kernelspec": {
   "display_name": "Python 3",
   "language": "python",
   "name": "python3"
  },
  "language_info": {
   "codemirror_mode": {
    "name": "ipython",
    "version": 3
   },
   "file_extension": ".py",
   "mimetype": "text/x-python",
   "name": "python",
   "nbconvert_exporter": "python",
   "pygments_lexer": "ipython3",
   "version": "3.7.1"
  }
 },
 "nbformat": 4,
 "nbformat_minor": 2
}
